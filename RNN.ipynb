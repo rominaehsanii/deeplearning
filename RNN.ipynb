{
  "nbformat": 4,
  "nbformat_minor": 0,
  "metadata": {
    "colab": {
      "name": "RNN.ipynb",
      "version": "0.3.2",
      "provenance": [],
      "collapsed_sections": [],
      "include_colab_link": true
    },
    "kernelspec": {
      "name": "python3",
      "display_name": "Python 3"
    },
    "accelerator": "GPU"
  },
  "cells": [
    {
      "cell_type": "markdown",
      "metadata": {
        "id": "view-in-github",
        "colab_type": "text"
      },
      "source": [
        "<a href=\"https://colab.research.google.com/github/rominaehsanii/deeplearning/blob/master/RNN.ipynb\" target=\"_parent\"><img src=\"https://colab.research.google.com/assets/colab-badge.svg\" alt=\"Open In Colab\"/></a>"
      ]
    },
    {
      "cell_type": "code",
      "metadata": {
        "id": "z8vJ3U9fQb5D",
        "colab_type": "code",
        "outputId": "e0740181-7c5b-4540-cff7-11805446cadd",
        "colab": {
          "base_uri": "https://localhost:8080/",
          "height": 139
        }
      },
      "source": [
        "import os\n",
        "import sys\n",
        "import keras\n",
        "from google.colab import drive\n",
        "\n",
        "# Mount\n",
        "drive.mount('/content/gdrive/')"
      ],
      "execution_count": 1,
      "outputs": [
        {
          "output_type": "stream",
          "text": [
            "Using TensorFlow backend.\n"
          ],
          "name": "stderr"
        },
        {
          "output_type": "stream",
          "text": [
            "Go to this URL in a browser: https://accounts.google.com/o/oauth2/auth?client_id=947318989803-6bn6qk8qdgf4n4g3pfee6491hc0brc4i.apps.googleusercontent.com&redirect_uri=urn%3Aietf%3Awg%3Aoauth%3A2.0%3Aoob&scope=email%20https%3A%2F%2Fwww.googleapis.com%2Fauth%2Fdocs.test%20https%3A%2F%2Fwww.googleapis.com%2Fauth%2Fdrive%20https%3A%2F%2Fwww.googleapis.com%2Fauth%2Fdrive.photos.readonly%20https%3A%2F%2Fwww.googleapis.com%2Fauth%2Fpeopleapi.readonly&response_type=code\n",
            "\n",
            "Enter your authorization code:\n",
            "··········\n",
            "Mounted at /content/gdrive/\n"
          ],
          "name": "stdout"
        }
      ]
    },
    {
      "cell_type": "code",
      "metadata": {
        "id": "wUijmYTvMedC",
        "colab_type": "code",
        "outputId": "0aeb3d5d-f7a6-4644-bf58-04606241b36e",
        "colab": {
          "base_uri": "https://localhost:8080/",
          "height": 54
        }
      },
      "source": [
        "from google.colab import drive\n",
        "drive.mount('/content/gdrive')"
      ],
      "execution_count": 0,
      "outputs": [
        {
          "output_type": "stream",
          "text": [
            "Drive already mounted at /content/gdrive; to attempt to forcibly remount, call drive.mount(\"/content/gdrive\", force_remount=True).\n"
          ],
          "name": "stdout"
        }
      ]
    },
    {
      "cell_type": "code",
      "metadata": {
        "id": "DmrxTTRiSI3w",
        "colab_type": "code",
        "outputId": "b193f15c-5eca-465a-e6cf-29cf5e676796",
        "colab": {
          "base_uri": "https://localhost:8080/",
          "height": 34
        }
      },
      "source": [
        "import pandas as pd\n",
        "import numpy as np\n",
        "import tensorflow as tf\n",
        "import re\n",
        "from nltk.corpus import stopwords\n",
        "import time\n",
        "from tensorflow.python.layers.core import Dense\n",
        "from tensorflow.python.ops.rnn_cell_impl import _zero_state_tensors\n",
        "print('TensorFlow Version: {}'.format(tf.__version__))"
      ],
      "execution_count": 0,
      "outputs": [
        {
          "output_type": "stream",
          "text": [
            "TensorFlow Version: 1.14.0\n"
          ],
          "name": "stdout"
        }
      ]
    },
    {
      "cell_type": "code",
      "metadata": {
        "id": "7BoZI7e_RFC-",
        "colab_type": "code",
        "colab": {}
      },
      "source": [
        "import pandas\n",
        "root_path = '/content/gdrive/My Drive/Colab Notebooks'\n",
        "# Append root_path to payhon path\n",
        "sys.path.append(root_path)\n",
        "reviews = pandas.read_csv(os.path.join(root_path, 'data/Reviews.csv')).values"
      ],
      "execution_count": 0,
      "outputs": []
    },
    {
      "cell_type": "code",
      "metadata": {
        "id": "PtynFyitRJT3",
        "colab_type": "code",
        "outputId": "a89584cf-be8e-46cc-9110-e419a3a232f5",
        "colab": {
          "base_uri": "https://localhost:8080/",
          "height": 683
        }
      },
      "source": [
        "reviews = pandas.read_csv(os.path.join(root_path, 'data/Reviews.csv'))\n",
        "reviews.head()"
      ],
      "execution_count": 0,
      "outputs": [
        {
          "output_type": "execute_result",
          "data": {
            "text/html": [
              "<div>\n",
              "<style scoped>\n",
              "    .dataframe tbody tr th:only-of-type {\n",
              "        vertical-align: middle;\n",
              "    }\n",
              "\n",
              "    .dataframe tbody tr th {\n",
              "        vertical-align: top;\n",
              "    }\n",
              "\n",
              "    .dataframe thead th {\n",
              "        text-align: right;\n",
              "    }\n",
              "</style>\n",
              "<table border=\"1\" class=\"dataframe\">\n",
              "  <thead>\n",
              "    <tr style=\"text-align: right;\">\n",
              "      <th></th>\n",
              "      <th>Id</th>\n",
              "      <th>ProductId</th>\n",
              "      <th>UserId</th>\n",
              "      <th>ProfileName</th>\n",
              "      <th>HelpfulnessNumerator</th>\n",
              "      <th>HelpfulnessDenominator</th>\n",
              "      <th>Score</th>\n",
              "      <th>Time</th>\n",
              "      <th>Summary</th>\n",
              "      <th>Text</th>\n",
              "    </tr>\n",
              "  </thead>\n",
              "  <tbody>\n",
              "    <tr>\n",
              "      <th>0</th>\n",
              "      <td>1</td>\n",
              "      <td>B001E4KFG0</td>\n",
              "      <td>A3SGXH7AUHU8GW</td>\n",
              "      <td>delmartian</td>\n",
              "      <td>1</td>\n",
              "      <td>1</td>\n",
              "      <td>5</td>\n",
              "      <td>1303862400</td>\n",
              "      <td>Good Quality Dog Food</td>\n",
              "      <td>I have bought several of the Vitality canned d...</td>\n",
              "    </tr>\n",
              "    <tr>\n",
              "      <th>1</th>\n",
              "      <td>2</td>\n",
              "      <td>B00813GRG4</td>\n",
              "      <td>A1D87F6ZCVE5NK</td>\n",
              "      <td>dll pa</td>\n",
              "      <td>0</td>\n",
              "      <td>0</td>\n",
              "      <td>1</td>\n",
              "      <td>1346976000</td>\n",
              "      <td>Not as Advertised</td>\n",
              "      <td>Product arrived labeled as Jumbo Salted Peanut...</td>\n",
              "    </tr>\n",
              "    <tr>\n",
              "      <th>2</th>\n",
              "      <td>3</td>\n",
              "      <td>B000LQOCH0</td>\n",
              "      <td>ABXLMWJIXXAIN</td>\n",
              "      <td>Natalia Corres \"Natalia Corres\"</td>\n",
              "      <td>1</td>\n",
              "      <td>1</td>\n",
              "      <td>4</td>\n",
              "      <td>1219017600</td>\n",
              "      <td>\"Delight\" says it all</td>\n",
              "      <td>This is a confection that has been around a fe...</td>\n",
              "    </tr>\n",
              "    <tr>\n",
              "      <th>3</th>\n",
              "      <td>4</td>\n",
              "      <td>B000UA0QIQ</td>\n",
              "      <td>A395BORC6FGVXV</td>\n",
              "      <td>Karl</td>\n",
              "      <td>3</td>\n",
              "      <td>3</td>\n",
              "      <td>2</td>\n",
              "      <td>1307923200</td>\n",
              "      <td>Cough Medicine</td>\n",
              "      <td>If you are looking for the secret ingredient i...</td>\n",
              "    </tr>\n",
              "    <tr>\n",
              "      <th>4</th>\n",
              "      <td>5</td>\n",
              "      <td>B006K2ZZ7K</td>\n",
              "      <td>A1UQRSCLF8GW1T</td>\n",
              "      <td>Michael D. Bigham \"M. Wassir\"</td>\n",
              "      <td>0</td>\n",
              "      <td>0</td>\n",
              "      <td>5</td>\n",
              "      <td>1350777600</td>\n",
              "      <td>Great taffy</td>\n",
              "      <td>Great taffy at a great price.  There was a wid...</td>\n",
              "    </tr>\n",
              "  </tbody>\n",
              "</table>\n",
              "</div>"
            ],
            "text/plain": [
              "   Id  ...                                               Text\n",
              "0   1  ...  I have bought several of the Vitality canned d...\n",
              "1   2  ...  Product arrived labeled as Jumbo Salted Peanut...\n",
              "2   3  ...  This is a confection that has been around a fe...\n",
              "3   4  ...  If you are looking for the secret ingredient i...\n",
              "4   5  ...  Great taffy at a great price.  There was a wid...\n",
              "\n",
              "[5 rows x 10 columns]"
            ]
          },
          "metadata": {
            "tags": []
          },
          "execution_count": 7
        }
      ]
    },
    {
      "cell_type": "code",
      "metadata": {
        "id": "6aEtrobQRJXz",
        "colab_type": "code",
        "outputId": "2ac5a69a-4a02-4de1-f031-fc0150724966",
        "colab": {
          "base_uri": "https://localhost:8080/",
          "height": 683
        }
      },
      "source": [
        "import numpy as np\n",
        "reviews.dropna(inplace=True)\n",
        "reviews[reviews['Score'] != 3]\n",
        "reviews['Positivity'] = np.where(reviews['Score'] > 3, 1, 0)\n",
        "reviews.head()"
      ],
      "execution_count": 0,
      "outputs": [
        {
          "output_type": "execute_result",
          "data": {
            "text/html": [
              "<div>\n",
              "<style scoped>\n",
              "    .dataframe tbody tr th:only-of-type {\n",
              "        vertical-align: middle;\n",
              "    }\n",
              "\n",
              "    .dataframe tbody tr th {\n",
              "        vertical-align: top;\n",
              "    }\n",
              "\n",
              "    .dataframe thead th {\n",
              "        text-align: right;\n",
              "    }\n",
              "</style>\n",
              "<table border=\"1\" class=\"dataframe\">\n",
              "  <thead>\n",
              "    <tr style=\"text-align: right;\">\n",
              "      <th></th>\n",
              "      <th>Id</th>\n",
              "      <th>ProductId</th>\n",
              "      <th>UserId</th>\n",
              "      <th>ProfileName</th>\n",
              "      <th>HelpfulnessNumerator</th>\n",
              "      <th>HelpfulnessDenominator</th>\n",
              "      <th>Score</th>\n",
              "      <th>Time</th>\n",
              "      <th>Summary</th>\n",
              "      <th>Text</th>\n",
              "      <th>Positivity</th>\n",
              "    </tr>\n",
              "  </thead>\n",
              "  <tbody>\n",
              "    <tr>\n",
              "      <th>0</th>\n",
              "      <td>1</td>\n",
              "      <td>B001E4KFG0</td>\n",
              "      <td>A3SGXH7AUHU8GW</td>\n",
              "      <td>delmartian</td>\n",
              "      <td>1</td>\n",
              "      <td>1</td>\n",
              "      <td>5</td>\n",
              "      <td>1303862400</td>\n",
              "      <td>Good Quality Dog Food</td>\n",
              "      <td>I have bought several of the Vitality canned d...</td>\n",
              "      <td>1</td>\n",
              "    </tr>\n",
              "    <tr>\n",
              "      <th>1</th>\n",
              "      <td>2</td>\n",
              "      <td>B00813GRG4</td>\n",
              "      <td>A1D87F6ZCVE5NK</td>\n",
              "      <td>dll pa</td>\n",
              "      <td>0</td>\n",
              "      <td>0</td>\n",
              "      <td>1</td>\n",
              "      <td>1346976000</td>\n",
              "      <td>Not as Advertised</td>\n",
              "      <td>Product arrived labeled as Jumbo Salted Peanut...</td>\n",
              "      <td>0</td>\n",
              "    </tr>\n",
              "    <tr>\n",
              "      <th>2</th>\n",
              "      <td>3</td>\n",
              "      <td>B000LQOCH0</td>\n",
              "      <td>ABXLMWJIXXAIN</td>\n",
              "      <td>Natalia Corres \"Natalia Corres\"</td>\n",
              "      <td>1</td>\n",
              "      <td>1</td>\n",
              "      <td>4</td>\n",
              "      <td>1219017600</td>\n",
              "      <td>\"Delight\" says it all</td>\n",
              "      <td>This is a confection that has been around a fe...</td>\n",
              "      <td>1</td>\n",
              "    </tr>\n",
              "    <tr>\n",
              "      <th>3</th>\n",
              "      <td>4</td>\n",
              "      <td>B000UA0QIQ</td>\n",
              "      <td>A395BORC6FGVXV</td>\n",
              "      <td>Karl</td>\n",
              "      <td>3</td>\n",
              "      <td>3</td>\n",
              "      <td>2</td>\n",
              "      <td>1307923200</td>\n",
              "      <td>Cough Medicine</td>\n",
              "      <td>If you are looking for the secret ingredient i...</td>\n",
              "      <td>0</td>\n",
              "    </tr>\n",
              "    <tr>\n",
              "      <th>4</th>\n",
              "      <td>5</td>\n",
              "      <td>B006K2ZZ7K</td>\n",
              "      <td>A1UQRSCLF8GW1T</td>\n",
              "      <td>Michael D. Bigham \"M. Wassir\"</td>\n",
              "      <td>0</td>\n",
              "      <td>0</td>\n",
              "      <td>5</td>\n",
              "      <td>1350777600</td>\n",
              "      <td>Great taffy</td>\n",
              "      <td>Great taffy at a great price.  There was a wid...</td>\n",
              "      <td>1</td>\n",
              "    </tr>\n",
              "  </tbody>\n",
              "</table>\n",
              "</div>"
            ],
            "text/plain": [
              "   Id  ... Positivity\n",
              "0   1  ...          1\n",
              "1   2  ...          0\n",
              "2   3  ...          1\n",
              "3   4  ...          0\n",
              "4   5  ...          1\n",
              "\n",
              "[5 rows x 11 columns]"
            ]
          },
          "metadata": {
            "tags": []
          },
          "execution_count": 8
        }
      ]
    },
    {
      "cell_type": "code",
      "metadata": {
        "id": "zYzyY-EzRJbL",
        "colab_type": "code",
        "outputId": "2ed09cbd-9bcd-414c-b870-442ecc8928aa",
        "colab": {
          "base_uri": "https://localhost:8080/",
          "height": 34
        }
      },
      "source": [
        "reviews.shape"
      ],
      "execution_count": 0,
      "outputs": [
        {
          "output_type": "execute_result",
          "data": {
            "text/plain": [
              "(568411, 11)"
            ]
          },
          "metadata": {
            "tags": []
          },
          "execution_count": 9
        }
      ]
    },
    {
      "cell_type": "code",
      "metadata": {
        "id": "-KSKp56PTHJ4",
        "colab_type": "code",
        "outputId": "0aee6e60-c960-4356-8998-e16238a8fd43",
        "colab": {
          "base_uri": "https://localhost:8080/",
          "height": 221
        }
      },
      "source": [
        "# Check for any nulls values\n",
        "reviews.isnull().sum()"
      ],
      "execution_count": 0,
      "outputs": [
        {
          "output_type": "execute_result",
          "data": {
            "text/plain": [
              "Id                        0\n",
              "ProductId                 0\n",
              "UserId                    0\n",
              "ProfileName               0\n",
              "HelpfulnessNumerator      0\n",
              "HelpfulnessDenominator    0\n",
              "Score                     0\n",
              "Time                      0\n",
              "Summary                   0\n",
              "Text                      0\n",
              "Positivity                0\n",
              "dtype: int64"
            ]
          },
          "metadata": {
            "tags": []
          },
          "execution_count": 10
        }
      ]
    },
    {
      "cell_type": "code",
      "metadata": {
        "id": "bfET_rcSTVXi",
        "colab_type": "code",
        "colab": {}
      },
      "source": [
        "# Remove null values and unneeded features\n",
        "reviews = reviews.dropna()\n",
        "reviews = reviews.drop(['Id','ProductId','UserId','ProfileName','HelpfulnessNumerator','HelpfulnessDenominator',\n",
        "                        'Score','Time'], 1)\n",
        "reviews = reviews.reset_index(drop=True)"
      ],
      "execution_count": 0,
      "outputs": []
    },
    {
      "cell_type": "code",
      "metadata": {
        "id": "JTiX3Vd9TWzH",
        "colab_type": "code",
        "outputId": "2cb50459-e500-4468-8092-713acd54f878",
        "colab": {
          "base_uri": "https://localhost:8080/",
          "height": 204
        }
      },
      "source": [
        "reviews.head()"
      ],
      "execution_count": 0,
      "outputs": [
        {
          "output_type": "execute_result",
          "data": {
            "text/html": [
              "<div>\n",
              "<style scoped>\n",
              "    .dataframe tbody tr th:only-of-type {\n",
              "        vertical-align: middle;\n",
              "    }\n",
              "\n",
              "    .dataframe tbody tr th {\n",
              "        vertical-align: top;\n",
              "    }\n",
              "\n",
              "    .dataframe thead th {\n",
              "        text-align: right;\n",
              "    }\n",
              "</style>\n",
              "<table border=\"1\" class=\"dataframe\">\n",
              "  <thead>\n",
              "    <tr style=\"text-align: right;\">\n",
              "      <th></th>\n",
              "      <th>Summary</th>\n",
              "      <th>Text</th>\n",
              "      <th>Positivity</th>\n",
              "    </tr>\n",
              "  </thead>\n",
              "  <tbody>\n",
              "    <tr>\n",
              "      <th>0</th>\n",
              "      <td>Good Quality Dog Food</td>\n",
              "      <td>I have bought several of the Vitality canned d...</td>\n",
              "      <td>1</td>\n",
              "    </tr>\n",
              "    <tr>\n",
              "      <th>1</th>\n",
              "      <td>Not as Advertised</td>\n",
              "      <td>Product arrived labeled as Jumbo Salted Peanut...</td>\n",
              "      <td>0</td>\n",
              "    </tr>\n",
              "    <tr>\n",
              "      <th>2</th>\n",
              "      <td>\"Delight\" says it all</td>\n",
              "      <td>This is a confection that has been around a fe...</td>\n",
              "      <td>1</td>\n",
              "    </tr>\n",
              "    <tr>\n",
              "      <th>3</th>\n",
              "      <td>Cough Medicine</td>\n",
              "      <td>If you are looking for the secret ingredient i...</td>\n",
              "      <td>0</td>\n",
              "    </tr>\n",
              "    <tr>\n",
              "      <th>4</th>\n",
              "      <td>Great taffy</td>\n",
              "      <td>Great taffy at a great price.  There was a wid...</td>\n",
              "      <td>1</td>\n",
              "    </tr>\n",
              "  </tbody>\n",
              "</table>\n",
              "</div>"
            ],
            "text/plain": [
              "                 Summary  ... Positivity\n",
              "0  Good Quality Dog Food  ...          1\n",
              "1      Not as Advertised  ...          0\n",
              "2  \"Delight\" says it all  ...          1\n",
              "3         Cough Medicine  ...          0\n",
              "4            Great taffy  ...          1\n",
              "\n",
              "[5 rows x 3 columns]"
            ]
          },
          "metadata": {
            "tags": []
          },
          "execution_count": 12
        }
      ]
    },
    {
      "cell_type": "code",
      "metadata": {
        "id": "yk8VmZW7TgIT",
        "colab_type": "code",
        "outputId": "4538ecad-e46c-4cbd-953f-bcfc940f3965",
        "colab": {
          "base_uri": "https://localhost:8080/",
          "height": 377
        }
      },
      "source": [
        "# Inspecting some of the reviews\n",
        "for i in range(5):\n",
        "    print(\"Review #\",i+1)\n",
        "    print(reviews.Summary[i])\n",
        "    print(reviews.Text[i])\n",
        "    print()"
      ],
      "execution_count": 0,
      "outputs": [
        {
          "output_type": "stream",
          "text": [
            "Review # 1\n",
            "Good Quality Dog Food\n",
            "I have bought several of the Vitality canned dog food products and have found them all to be of good quality. The product looks more like a stew than a processed meat and it smells better. My Labrador is finicky and she appreciates this product better than  most.\n",
            "\n",
            "Review # 2\n",
            "Not as Advertised\n",
            "Product arrived labeled as Jumbo Salted Peanuts...the peanuts were actually small sized unsalted. Not sure if this was an error or if the vendor intended to represent the product as \"Jumbo\".\n",
            "\n",
            "Review # 3\n",
            "\"Delight\" says it all\n",
            "This is a confection that has been around a few centuries.  It is a light, pillowy citrus gelatin with nuts - in this case Filberts. And it is cut into tiny squares and then liberally coated with powdered sugar.  And it is a tiny mouthful of heaven.  Not too chewy, and very flavorful.  I highly recommend this yummy treat.  If you are familiar with the story of C.S. Lewis' \"The Lion, The Witch, and The Wardrobe\" - this is the treat that seduces Edmund into selling out his Brother and Sisters to the Witch.\n",
            "\n",
            "Review # 4\n",
            "Cough Medicine\n",
            "If you are looking for the secret ingredient in Robitussin I believe I have found it.  I got this in addition to the Root Beer Extract I ordered (which was good) and made some cherry soda.  The flavor is very medicinal.\n",
            "\n",
            "Review # 5\n",
            "Great taffy\n",
            "Great taffy at a great price.  There was a wide assortment of yummy taffy.  Delivery was very quick.  If your a taffy lover, this is a deal.\n",
            "\n"
          ],
          "name": "stdout"
        }
      ]
    },
    {
      "cell_type": "code",
      "metadata": {
        "id": "fzx7gjaWTgO7",
        "colab_type": "code",
        "colab": {}
      },
      "source": [
        "# A list of contractions from http://stackoverflow.com/questions/19790188/expanding-english-language-contractions-in-python\n",
        "contractions = { \n",
        "\"ain't\": \"am not\",\n",
        "\"aren't\": \"are not\",\n",
        "\"can't\": \"cannot\",\n",
        "\"can't've\": \"cannot have\",\n",
        "\"'cause\": \"because\",\n",
        "\"could've\": \"could have\",\n",
        "\"couldn't\": \"could not\",\n",
        "\"couldn't've\": \"could not have\",\n",
        "\"didn't\": \"did not\",\n",
        "\"doesn't\": \"does not\",\n",
        "\"don't\": \"do not\",\n",
        "\"hadn't\": \"had not\",\n",
        "\"hadn't've\": \"had not have\",\n",
        "\"hasn't\": \"has not\",\n",
        "\"haven't\": \"have not\",\n",
        "\"he'd\": \"he would\",\n",
        "\"he'd've\": \"he would have\",\n",
        "\"he'll\": \"he will\",\n",
        "\"he's\": \"he is\",\n",
        "\"how'd\": \"how did\",\n",
        "\"how'll\": \"how will\",\n",
        "\"how's\": \"how is\",\n",
        "\"i'd\": \"i would\",\n",
        "\"i'll\": \"i will\",\n",
        "\"i'm\": \"i am\",\n",
        "\"i've\": \"i have\",\n",
        "\"isn't\": \"is not\",\n",
        "\"it'd\": \"it would\",\n",
        "\"it'll\": \"it will\",\n",
        "\"it's\": \"it is\",\n",
        "\"let's\": \"let us\",\n",
        "\"ma'am\": \"madam\",\n",
        "\"mayn't\": \"may not\",\n",
        "\"might've\": \"might have\",\n",
        "\"mightn't\": \"might not\",\n",
        "\"must've\": \"must have\",\n",
        "\"mustn't\": \"must not\",\n",
        "\"needn't\": \"need not\",\n",
        "\"oughtn't\": \"ought not\",\n",
        "\"shan't\": \"shall not\",\n",
        "\"sha'n't\": \"shall not\",\n",
        "\"she'd\": \"she would\",\n",
        "\"she'll\": \"she will\",\n",
        "\"she's\": \"she is\",\n",
        "\"should've\": \"should have\",\n",
        "\"shouldn't\": \"should not\",\n",
        "\"that'd\": \"that would\",\n",
        "\"that's\": \"that is\",\n",
        "\"there'd\": \"there had\",\n",
        "\"there's\": \"there is\",\n",
        "\"they'd\": \"they would\",\n",
        "\"they'll\": \"they will\",\n",
        "\"they're\": \"they are\",\n",
        "\"they've\": \"they have\",\n",
        "\"wasn't\": \"was not\",\n",
        "\"we'd\": \"we would\",\n",
        "\"we'll\": \"we will\",\n",
        "\"we're\": \"we are\",\n",
        "\"we've\": \"we have\",\n",
        "\"weren't\": \"were not\",\n",
        "\"what'll\": \"what will\",\n",
        "\"what're\": \"what are\",\n",
        "\"what's\": \"what is\",\n",
        "\"what've\": \"what have\",\n",
        "\"where'd\": \"where did\",\n",
        "\"where's\": \"where is\",\n",
        "\"who'll\": \"who will\",\n",
        "\"who's\": \"who is\",\n",
        "\"won't\": \"will not\",\n",
        "\"wouldn't\": \"would not\",\n",
        "\"you'd\": \"you would\",\n",
        "\"you'll\": \"you will\",\n",
        "\"you're\": \"you are\"\n",
        "}"
      ],
      "execution_count": 0,
      "outputs": []
    },
    {
      "cell_type": "code",
      "metadata": {
        "id": "LfZwj41QTgSF",
        "colab_type": "code",
        "colab": {}
      },
      "source": [
        "def clean_text(text, remove_stopwords = True):\n",
        "    '''Remove unwanted characters, stopwords, and format the text to create fewer nulls word embeddings'''\n",
        "    \n",
        "    # Convert words to lower case\n",
        "    text = text.lower()\n",
        "    \n",
        "    # Replace contractions with their longer forms \n",
        "    if True:\n",
        "        text = text.split()\n",
        "        new_text = []\n",
        "        for word in text:\n",
        "            if word in contractions:\n",
        "                new_text.append(contractions[word])\n",
        "            else:\n",
        "                new_text.append(word)\n",
        "        text = \" \".join(new_text)\n",
        "    \n",
        "    # Format words and remove unwanted characters\n",
        "    text = re.sub(r'https?:\\/\\/.*[\\r\\n]*', '', text, flags=re.MULTILINE)\n",
        "    text = re.sub(r'\\<a href', ' ', text)\n",
        "    text = re.sub(r'&amp;', '', text) \n",
        "    text = re.sub(r'[_\"\\-;%()|+&=*%.,!?:#$@\\[\\]/]', ' ', text)\n",
        "    text = re.sub(r'<br />', ' ', text)\n",
        "    text = re.sub(r'\\'', ' ', text)\n",
        "    \n",
        "    # Optionally, remove stop words\n",
        "    if remove_stopwords:\n",
        "        text = text.split()\n",
        "        stops = set(stopwords.words(\"english\"))\n",
        "        text = [w for w in text if not w in stops]\n",
        "        text = \" \".join(text)\n",
        "\n",
        "    return text"
      ],
      "execution_count": 0,
      "outputs": []
    },
    {
      "cell_type": "code",
      "metadata": {
        "id": "Q3Twsd-sTgUm",
        "colab_type": "code",
        "outputId": "f9f1407b-1f1c-4ebe-f621-a1622659a477",
        "colab": {
          "base_uri": "https://localhost:8080/",
          "height": 816
        }
      },
      "source": [
        "import nltk\n",
        "nltk.download(\"popular\")"
      ],
      "execution_count": 0,
      "outputs": [
        {
          "output_type": "stream",
          "text": [
            "[nltk_data] Downloading collection 'popular'\n",
            "[nltk_data]    | \n",
            "[nltk_data]    | Downloading package cmudict to /root/nltk_data...\n",
            "[nltk_data]    |   Unzipping corpora/cmudict.zip.\n",
            "[nltk_data]    | Downloading package gazetteers to /root/nltk_data...\n",
            "[nltk_data]    |   Unzipping corpora/gazetteers.zip.\n",
            "[nltk_data]    | Downloading package genesis to /root/nltk_data...\n",
            "[nltk_data]    |   Unzipping corpora/genesis.zip.\n",
            "[nltk_data]    | Downloading package gutenberg to /root/nltk_data...\n",
            "[nltk_data]    |   Unzipping corpora/gutenberg.zip.\n",
            "[nltk_data]    | Downloading package inaugural to /root/nltk_data...\n",
            "[nltk_data]    |   Unzipping corpora/inaugural.zip.\n",
            "[nltk_data]    | Downloading package movie_reviews to\n",
            "[nltk_data]    |     /root/nltk_data...\n",
            "[nltk_data]    |   Unzipping corpora/movie_reviews.zip.\n",
            "[nltk_data]    | Downloading package names to /root/nltk_data...\n",
            "[nltk_data]    |   Unzipping corpora/names.zip.\n",
            "[nltk_data]    | Downloading package shakespeare to /root/nltk_data...\n",
            "[nltk_data]    |   Unzipping corpora/shakespeare.zip.\n",
            "[nltk_data]    | Downloading package stopwords to /root/nltk_data...\n",
            "[nltk_data]    |   Unzipping corpora/stopwords.zip.\n",
            "[nltk_data]    | Downloading package treebank to /root/nltk_data...\n",
            "[nltk_data]    |   Unzipping corpora/treebank.zip.\n",
            "[nltk_data]    | Downloading package twitter_samples to\n",
            "[nltk_data]    |     /root/nltk_data...\n",
            "[nltk_data]    |   Unzipping corpora/twitter_samples.zip.\n",
            "[nltk_data]    | Downloading package omw to /root/nltk_data...\n",
            "[nltk_data]    |   Unzipping corpora/omw.zip.\n",
            "[nltk_data]    | Downloading package wordnet to /root/nltk_data...\n",
            "[nltk_data]    |   Unzipping corpora/wordnet.zip.\n",
            "[nltk_data]    | Downloading package wordnet_ic to /root/nltk_data...\n",
            "[nltk_data]    |   Unzipping corpora/wordnet_ic.zip.\n",
            "[nltk_data]    | Downloading package words to /root/nltk_data...\n",
            "[nltk_data]    |   Unzipping corpora/words.zip.\n",
            "[nltk_data]    | Downloading package maxent_ne_chunker to\n",
            "[nltk_data]    |     /root/nltk_data...\n",
            "[nltk_data]    |   Unzipping chunkers/maxent_ne_chunker.zip.\n",
            "[nltk_data]    | Downloading package punkt to /root/nltk_data...\n",
            "[nltk_data]    |   Unzipping tokenizers/punkt.zip.\n",
            "[nltk_data]    | Downloading package snowball_data to\n",
            "[nltk_data]    |     /root/nltk_data...\n",
            "[nltk_data]    | Downloading package averaged_perceptron_tagger to\n",
            "[nltk_data]    |     /root/nltk_data...\n",
            "[nltk_data]    |   Unzipping taggers/averaged_perceptron_tagger.zip.\n",
            "[nltk_data]    | \n",
            "[nltk_data]  Done downloading collection popular\n"
          ],
          "name": "stdout"
        },
        {
          "output_type": "execute_result",
          "data": {
            "text/plain": [
              "True"
            ]
          },
          "metadata": {
            "tags": []
          },
          "execution_count": 16
        }
      ]
    },
    {
      "cell_type": "code",
      "metadata": {
        "id": "XcEfsYzeewsi",
        "colab_type": "code",
        "outputId": "11bd1f68-998f-46ec-df00-f1da8a360050",
        "colab": {
          "base_uri": "https://localhost:8080/",
          "height": 51
        }
      },
      "source": [
        "from nltk.corpus import stopwords\n",
        "# Clean the summaries and texts\n",
        "clean_summaries = []\n",
        "for summary in reviews.Summary:\n",
        "    clean_summaries.append(clean_text(summary, remove_stopwords=False))\n",
        "print(\"Summaries are complete.\")\n",
        "\n",
        "clean_texts = []\n",
        "for text in reviews.Text:\n",
        "    clean_texts.append(clean_text(text))\n",
        "print(\"Texts are complete.\")"
      ],
      "execution_count": 0,
      "outputs": [
        {
          "output_type": "stream",
          "text": [
            "Summaries are complete.\n",
            "Texts are complete.\n"
          ],
          "name": "stdout"
        }
      ]
    },
    {
      "cell_type": "code",
      "metadata": {
        "id": "8bgUh8ZHhBHo",
        "colab_type": "code",
        "outputId": "1d349060-12a5-4bec-c731-e29d5c9d8503",
        "colab": {
          "base_uri": "https://localhost:8080/",
          "height": 377
        }
      },
      "source": [
        "# Inspect the cleaned summaries and texts to ensure they have been cleaned well\n",
        "for i in range(5):\n",
        "    print(\"Clean Review #\",i+1)\n",
        "    print(clean_summaries[i])\n",
        "    print(clean_texts[i])\n",
        "    print()"
      ],
      "execution_count": 0,
      "outputs": [
        {
          "output_type": "stream",
          "text": [
            "Clean Review # 1\n",
            "good quality dog food\n",
            "bought several vitality canned dog food products found good quality product looks like stew processed meat smells better labrador finicky appreciates product better\n",
            "\n",
            "Clean Review # 2\n",
            "not as advertised\n",
            "product arrived labeled jumbo salted peanuts peanuts actually small sized unsalted sure error vendor intended represent product jumbo\n",
            "\n",
            "Clean Review # 3\n",
            " delight  says it all\n",
            "confection around centuries light pillowy citrus gelatin nuts case filberts cut tiny squares liberally coated powdered sugar tiny mouthful heaven chewy flavorful highly recommend yummy treat familiar story c lewis lion witch wardrobe treat seduces edmund selling brother sisters witch\n",
            "\n",
            "Clean Review # 4\n",
            "cough medicine\n",
            "looking secret ingredient robitussin believe found got addition root beer extract ordered good made cherry soda flavor medicinal\n",
            "\n",
            "Clean Review # 5\n",
            "great taffy\n",
            "great taffy great price wide assortment yummy taffy delivery quick taffy lover deal\n",
            "\n"
          ],
          "name": "stdout"
        }
      ]
    },
    {
      "cell_type": "code",
      "metadata": {
        "id": "KVum1IDyhLAw",
        "colab_type": "code",
        "colab": {}
      },
      "source": [
        "def count_words(count_dict, text):\n",
        "    '''Count the number of occurrences of each word in a set of text'''\n",
        "    for sentence in text:\n",
        "        for word in sentence.split():\n",
        "            if word not in count_dict:\n",
        "                count_dict[word] = 1\n",
        "            else:\n",
        "                count_dict[word] += 1"
      ],
      "execution_count": 0,
      "outputs": []
    },
    {
      "cell_type": "code",
      "metadata": {
        "id": "tBm_HvGghRgX",
        "colab_type": "code",
        "outputId": "3bb2a87d-cde0-4bfc-ff00-504542f79ca6",
        "colab": {
          "base_uri": "https://localhost:8080/",
          "height": 34
        }
      },
      "source": [
        "# Find the number of times each word was used and the size of the vocabulary\n",
        "word_counts = {}\n",
        "\n",
        "count_words(word_counts, clean_summaries)\n",
        "count_words(word_counts, clean_texts)\n",
        "            \n",
        "print(\"Size of Vocabulary:\", len(word_counts))"
      ],
      "execution_count": 0,
      "outputs": [
        {
          "output_type": "stream",
          "text": [
            "Size of Vocabulary: 132884\n"
          ],
          "name": "stdout"
        }
      ]
    },
    {
      "cell_type": "code",
      "metadata": {
        "id": "jxNVDqTxhbkl",
        "colab_type": "code",
        "outputId": "30ab956b-59e5-423b-b6c6-7ca27e9306ca",
        "colab": {
          "base_uri": "https://localhost:8080/",
          "height": 34
        }
      },
      "source": [
        "# Load Conceptnet Numberbatch's (CN) embeddings, similar to GloVe, but probably better \n",
        "# (https://github.com/commonsense/conceptnet-numberbatch)\n",
        "\n",
        "import pandas\n",
        "root_path = '/content/gdrive/My Drive/Colab Notebooks'\n",
        "# Append root_path to payhon path\n",
        "sys.path.append(root_path)\n",
        "reviews = os.path.join(root_path, 'data/numberbatch-en-17.02.txt')\n",
        "\n",
        "embeddings_index = {}\n",
        "with open(reviews, encoding='utf-8') as f:\n",
        "    for line in f:\n",
        "        values = line.split(' ')\n",
        "        word = values[0]\n",
        "        embedding = np.asarray(values[1:], dtype='float32')\n",
        "        embeddings_index[word] = embedding\n",
        "\n",
        "print('Word embeddings:', len(embeddings_index))"
      ],
      "execution_count": 0,
      "outputs": [
        {
          "output_type": "stream",
          "text": [
            "Word embeddings: 484557\n"
          ],
          "name": "stdout"
        }
      ]
    },
    {
      "cell_type": "code",
      "metadata": {
        "id": "VMpuvF5frvmg",
        "colab_type": "code",
        "outputId": "0dce4cdc-5f38-4c31-a36c-07e90449edc5",
        "colab": {
          "base_uri": "https://localhost:8080/",
          "height": 51
        }
      },
      "source": [
        "# Find the number of words that are missing from CN, and are used more than our threshold.\n",
        "missing_words = 0\n",
        "threshold = 20\n",
        "\n",
        "for word, count in word_counts.items():\n",
        "    if count > threshold:\n",
        "        if word not in embeddings_index:\n",
        "            missing_words += 1\n",
        "            \n",
        "missing_ratio = round(missing_words/len(word_counts),4)*100\n",
        "            \n",
        "print(\"Number of words missing from CN:\", missing_words)\n",
        "print(\"Percent of words that are missing from vocabulary: {}%\".format(missing_ratio))"
      ],
      "execution_count": 0,
      "outputs": [
        {
          "output_type": "stream",
          "text": [
            "Number of words missing from CN: 3044\n",
            "Percent of words that are missing from vocabulary: 2.29%\n"
          ],
          "name": "stdout"
        }
      ]
    },
    {
      "cell_type": "code",
      "metadata": {
        "id": "I_KNKe7vrwRL",
        "colab_type": "code",
        "outputId": "8ff028fa-0d5b-46cd-be92-d189ee11ed90",
        "colab": {
          "base_uri": "https://localhost:8080/",
          "height": 68
        }
      },
      "source": [
        "# Limit the vocab that we will use to words that appear ≥ threshold or are in GloVe\n",
        "\n",
        "#dictionary to convert words to integers\n",
        "vocab_to_int = {} \n",
        "\n",
        "value = 0\n",
        "for word, count in word_counts.items():\n",
        "    if count >= threshold or word in embeddings_index:\n",
        "        vocab_to_int[word] = value\n",
        "        value += 1\n",
        "\n",
        "# Special tokens that will be added to our vocab\n",
        "codes = [\"<UNK>\",\"<PAD>\",\"<EOS>\",\"<GO>\"]   \n",
        "\n",
        "# Add codes to vocab\n",
        "for code in codes:\n",
        "    vocab_to_int[code] = len(vocab_to_int)\n",
        "\n",
        "# Dictionary to convert integers to words\n",
        "int_to_vocab = {}\n",
        "for word, value in vocab_to_int.items():\n",
        "    int_to_vocab[value] = word\n",
        "\n",
        "usage_ratio = round(len(vocab_to_int) / len(word_counts),4)*100\n",
        "\n",
        "print(\"Total number of unique words:\", len(word_counts))\n",
        "print(\"Number of words we will use:\", len(vocab_to_int))\n",
        "print(\"Percent of words we will use: {}%\".format(usage_ratio))"
      ],
      "execution_count": 0,
      "outputs": [
        {
          "output_type": "stream",
          "text": [
            "Total number of unique words: 132884\n",
            "Number of words we will use: 65469\n",
            "Percent of words we will use: 49.27%\n"
          ],
          "name": "stdout"
        }
      ]
    },
    {
      "cell_type": "code",
      "metadata": {
        "id": "lfqLW0IvrwgP",
        "colab_type": "code",
        "outputId": "036dd7b0-1e41-453c-d465-31d992a60ff8",
        "colab": {
          "base_uri": "https://localhost:8080/",
          "height": 34
        }
      },
      "source": [
        "# Need to use 300 for embedding dimensions to match CN's vectors.\n",
        "embedding_dim = 300\n",
        "nb_words = len(vocab_to_int)\n",
        "\n",
        "# Create matrix with default values of zero\n",
        "word_embedding_matrix = np.zeros((nb_words, embedding_dim), dtype=np.float32)\n",
        "for word, i in vocab_to_int.items():\n",
        "    if word in embeddings_index:\n",
        "        word_embedding_matrix[i] = embeddings_index[word]\n",
        "    else:\n",
        "        # If word not in CN, create a random embedding for it\n",
        "        new_embedding = np.array(np.random.uniform(-1.0, 1.0, embedding_dim))\n",
        "        embeddings_index[word] = new_embedding\n",
        "        word_embedding_matrix[i] = new_embedding\n",
        "\n",
        "# Check if value matches len(vocab_to_int)\n",
        "print(len(word_embedding_matrix))"
      ],
      "execution_count": 0,
      "outputs": [
        {
          "output_type": "stream",
          "text": [
            "65469\n"
          ],
          "name": "stdout"
        }
      ]
    },
    {
      "cell_type": "code",
      "metadata": {
        "id": "m72B5ov2uem6",
        "colab_type": "code",
        "colab": {}
      },
      "source": [
        "def convert_to_ints(text, word_count, unk_count, eos=False):\n",
        "    '''Convert words in text to an integer.\n",
        "       If word is not in vocab_to_int, use UNK's integer.\n",
        "       Total the number of words and UNKs.\n",
        "       Add EOS token to the end of texts'''\n",
        "    ints = []\n",
        "    for sentence in text:\n",
        "        sentence_ints = []\n",
        "        for word in sentence.split():\n",
        "            word_count += 1\n",
        "            if word in vocab_to_int:\n",
        "                sentence_ints.append(vocab_to_int[word])\n",
        "            else:\n",
        "                sentence_ints.append(vocab_to_int[\"<UNK>\"])\n",
        "                unk_count += 1\n",
        "        if eos:\n",
        "            sentence_ints.append(vocab_to_int[\"<EOS>\"])\n",
        "        ints.append(sentence_ints)\n",
        "    return ints, word_count, unk_count"
      ],
      "execution_count": 0,
      "outputs": []
    },
    {
      "cell_type": "code",
      "metadata": {
        "id": "VxAojX2vueyz",
        "colab_type": "code",
        "outputId": "6b829e78-ddaf-4c76-affd-e6e437727d52",
        "colab": {
          "base_uri": "https://localhost:8080/",
          "height": 68
        }
      },
      "source": [
        "# Apply convert_to_ints to clean_summaries and clean_texts\n",
        "word_count = 0\n",
        "unk_count = 0\n",
        "\n",
        "int_summaries, word_count, unk_count = convert_to_ints(clean_summaries, word_count, unk_count)\n",
        "int_texts, word_count, unk_count = convert_to_ints(clean_texts, word_count, unk_count, eos=True)\n",
        "\n",
        "unk_percent = round(unk_count/word_count,4)*100\n",
        "\n",
        "print(\"Total number of words in headlines:\", word_count)\n",
        "print(\"Total number of UNKs in headlines:\", unk_count)\n",
        "print(\"Percent of words that are UNK: {}%\".format(unk_percent))"
      ],
      "execution_count": 0,
      "outputs": [
        {
          "output_type": "stream",
          "text": [
            "Total number of words in headlines: 25679933\n",
            "Total number of UNKs in headlines: 170450\n",
            "Percent of words that are UNK: 0.66%\n"
          ],
          "name": "stdout"
        }
      ]
    },
    {
      "cell_type": "code",
      "metadata": {
        "id": "2jwENIPxue4T",
        "colab_type": "code",
        "colab": {}
      },
      "source": [
        "def create_lengths(text):\n",
        "    '''Create a data frame of the sentence lengths from a text'''\n",
        "    lengths = []\n",
        "    for sentence in text:\n",
        "        lengths.append(len(sentence))\n",
        "    return pd.DataFrame(lengths, columns=['counts'])"
      ],
      "execution_count": 0,
      "outputs": []
    },
    {
      "cell_type": "code",
      "metadata": {
        "id": "--j1FGI8ue17",
        "colab_type": "code",
        "outputId": "ddff4db0-5a5b-401e-a863-88946a242796",
        "colab": {
          "base_uri": "https://localhost:8080/",
          "height": 374
        }
      },
      "source": [
        "lengths_summaries = create_lengths(int_summaries)\n",
        "lengths_texts = create_lengths(int_texts)\n",
        "\n",
        "print(\"Summaries:\")\n",
        "print(lengths_summaries.describe())\n",
        "print()\n",
        "print(\"Texts:\")\n",
        "print(lengths_texts.describe())"
      ],
      "execution_count": 0,
      "outputs": [
        {
          "output_type": "stream",
          "text": [
            "Summaries:\n",
            "              counts\n",
            "count  568411.000000\n",
            "mean        4.181624\n",
            "std         2.657872\n",
            "min         0.000000\n",
            "25%         2.000000\n",
            "50%         4.000000\n",
            "75%         5.000000\n",
            "max        48.000000\n",
            "\n",
            "Texts:\n",
            "              counts\n",
            "count  568411.000000\n",
            "mean       41.996835\n",
            "std        42.520873\n",
            "min         1.000000\n",
            "25%        18.000000\n",
            "50%        29.000000\n",
            "75%        50.000000\n",
            "max      2085.000000\n"
          ],
          "name": "stdout"
        }
      ]
    },
    {
      "cell_type": "code",
      "metadata": {
        "id": "MfFair4kuvqB",
        "colab_type": "code",
        "outputId": "b1e4eb91-fc5b-4c86-e560-5ae7a0b1f5af",
        "colab": {
          "base_uri": "https://localhost:8080/",
          "height": 68
        }
      },
      "source": [
        "\"\"\"### See what's the max squence length we can cover by percentile\"\"\"\n",
        "# Inspect the length of texts\n",
        "print(np.percentile(lengths_texts.counts, 90))\n",
        "print(np.percentile(lengths_texts.counts, 95))\n",
        "print(np.percentile(lengths_texts.counts, 99))"
      ],
      "execution_count": 0,
      "outputs": [
        {
          "output_type": "stream",
          "text": [
            "84.0\n",
            "115.0\n",
            "207.0\n"
          ],
          "name": "stdout"
        }
      ]
    },
    {
      "cell_type": "code",
      "metadata": {
        "id": "zs0yy3ITuv0n",
        "colab_type": "code",
        "outputId": "df67ad9b-3832-42da-a8a1-b75ceba378aa",
        "colab": {
          "base_uri": "https://localhost:8080/",
          "height": 68
        }
      },
      "source": [
        "# Inspect the length of summaries\n",
        "print(np.percentile(lengths_summaries.counts, 90))\n",
        "print(np.percentile(lengths_summaries.counts, 95))\n",
        "print(np.percentile(lengths_summaries.counts, 99))"
      ],
      "execution_count": 0,
      "outputs": [
        {
          "output_type": "stream",
          "text": [
            "8.0\n",
            "9.0\n",
            "13.0\n"
          ],
          "name": "stdout"
        }
      ]
    },
    {
      "cell_type": "code",
      "metadata": {
        "id": "gCd_Kffduv-x",
        "colab_type": "code",
        "colab": {}
      },
      "source": [
        "def unk_counter(sentence):\n",
        "    '''Counts the number of time UNK appears in a sentence.'''\n",
        "    unk_count = 0\n",
        "    for word in sentence:\n",
        "        if word == vocab_to_int[\"<UNK>\"]:\n",
        "            unk_count += 1\n",
        "    return unk_count"
      ],
      "execution_count": 0,
      "outputs": []
    },
    {
      "cell_type": "code",
      "metadata": {
        "id": "dYIv8xxqu-i2",
        "colab_type": "code",
        "outputId": "455e9b35-4c4b-49f6-cdbe-297c6d4108ad",
        "colab": {
          "base_uri": "https://localhost:8080/",
          "height": 51
        }
      },
      "source": [
        "# Sort the summaries and texts by the length of the texts, shortest to longest\n",
        "# Limit the length of summaries and texts based on the min and max ranges.\n",
        "# Remove reviews that include too many UNKs\n",
        "\n",
        "sorted_summaries = []\n",
        "sorted_texts = []\n",
        "max_text_length = 84\n",
        "max_summary_length = 13\n",
        "min_length = 2\n",
        "unk_text_limit = 1\n",
        "unk_summary_limit = 0\n",
        "\n",
        "for length in range(min(lengths_texts.counts), max_text_length): \n",
        "    for count, words in enumerate(int_summaries):\n",
        "        if (len(int_summaries[count]) >= min_length and\n",
        "            len(int_summaries[count]) <= max_summary_length and\n",
        "            len(int_texts[count]) >= min_length and\n",
        "            unk_counter(int_summaries[count]) <= unk_summary_limit and\n",
        "            unk_counter(int_texts[count]) <= unk_text_limit and\n",
        "            length == len(int_texts[count])\n",
        "           ):\n",
        "            sorted_summaries.append(int_summaries[count])\n",
        "            sorted_texts.append(int_texts[count])\n",
        "        \n",
        "# Compare lengths to ensure they match\n",
        "print(len(sorted_summaries))\n",
        "print(len(sorted_texts))"
      ],
      "execution_count": 0,
      "outputs": [
        {
          "output_type": "stream",
          "text": [
            "429209\n",
            "429209\n"
          ],
          "name": "stdout"
        }
      ]
    },
    {
      "cell_type": "code",
      "metadata": {
        "id": "29ObX5Ntu-vv",
        "colab_type": "code",
        "colab": {}
      },
      "source": [
        "def model_inputs():\n",
        "    '''Create palceholders for inputs to the model'''\n",
        "    \n",
        "    input_data = tf.placeholder(tf.int32, [None, None], name='input')\n",
        "    targets = tf.placeholder(tf.int32, [None, None], name='targets')\n",
        "    lr = tf.placeholder(tf.float32, name='learning_rate')\n",
        "    keep_prob = tf.placeholder(tf.float32, name='keep_prob')\n",
        "    summary_length = tf.placeholder(tf.int32, (None,), name='summary_length')\n",
        "    max_summary_length = tf.reduce_max(summary_length, name='max_dec_len')\n",
        "    text_length = tf.placeholder(tf.int32, (None,), name='text_length')\n",
        "\n",
        "    return input_data, targets, lr, keep_prob, summary_length, max_summary_length, text_length"
      ],
      "execution_count": 0,
      "outputs": []
    },
    {
      "cell_type": "code",
      "metadata": {
        "id": "LrI1Mricu-s6",
        "colab_type": "code",
        "colab": {}
      },
      "source": [
        "def process_encoding_input(target_data, vocab_to_int, batch_size):\n",
        "    '''Remove the last word id from each batch and concat the <GO> to the begining of each batch'''\n",
        "    \n",
        "    ending = tf.strided_slice(target_data, [0, 0], [batch_size, -1], [1, 1])\n",
        "    dec_input = tf.concat([tf.fill([batch_size, 1], vocab_to_int['<GO>']), ending], 1)\n",
        "\n",
        "    return dec_input"
      ],
      "execution_count": 0,
      "outputs": []
    },
    {
      "cell_type": "code",
      "metadata": {
        "colab_type": "code",
        "id": "h55H1-rx9fsa",
        "colab": {}
      },
      "source": [
        "\n",
        "\"\"\"### Create the encoding layers\n",
        "\n",
        "bidirectional_dynamic_rnn\n",
        "use **tf.variable_scope** so that variables are reused with each layer\n",
        "\n",
        "parameters\n",
        "- **rnn_size**: The number of units in the LSTM cell\n",
        "- **sequence_length**: size [batch_size], containing the actual lengths for each of the sequences in the batch\n",
        "- **num_layers**: number of bidirectional RNN layer\n",
        "- **rnn_inputs**: number of bidirectional RNN layer\n",
        "- **keep_prob**: RNN dropout input keep probability\n",
        "\"\"\"\n",
        "\n",
        "def encoding_layer(rnn_size, sequence_length, num_layers, rnn_inputs, keep_prob):\n",
        "    '''Create the encoding layer'''\n",
        "    \n",
        "    for layer in range(num_layers):\n",
        "        with tf.variable_scope('encoder_{}'.format(layer)):\n",
        "            cell_fw = tf.contrib.rnn.LSTMCell(rnn_size,\n",
        "                                              initializer=tf.random_uniform_initializer(-0.1, 0.1, seed=2))\n",
        "            cell_fw = tf.contrib.rnn.DropoutWrapper(cell_fw, \n",
        "                                                    input_keep_prob = keep_prob)\n",
        "\n",
        "            cell_bw = tf.contrib.rnn.LSTMCell(rnn_size,\n",
        "                                              initializer=tf.random_uniform_initializer(-0.1, 0.1, seed=2))\n",
        "            cell_bw = tf.contrib.rnn.DropoutWrapper(cell_bw, \n",
        "                                                    input_keep_prob = keep_prob)\n",
        "\n",
        "            enc_output, enc_state = tf.nn.bidirectional_dynamic_rnn(cell_fw, \n",
        "                                                                    cell_bw, \n",
        "                                                                    rnn_inputs,\n",
        "                                                                    sequence_length,\n",
        "                                                                    dtype=tf.float32)\n",
        "    # Join outputs since we are using a bidirectional RNN\n",
        "    enc_output = tf.concat(enc_output,2)\n",
        "    rnn_inputs = enc_output\n",
        "    \n",
        "    return enc_output, enc_state"
      ],
      "execution_count": 0,
      "outputs": []
    },
    {
      "cell_type": "code",
      "metadata": {
        "id": "YtrhdP5u-cdv",
        "colab_type": "code",
        "colab": {}
      },
      "source": [
        "\"\"\"### Create the training decoding layer\n",
        "parameters\n",
        "- **dec_embed_input**: output of embedding_lookup for a batch of inputs\n",
        "- **summary_length**: length of each padded summary sequences in batch, since padded, all lengths should be same number \n",
        "- **dec_cell**: the decoder RNN cells' output with attention wapper\n",
        "- **output_layer**: fully connected layer to apply to the RNN output\n",
        "- **vocab_size**: vocabulary size i.e. len(vocab_to_int)+1\n",
        "- **max_summary_length**: the maximum length of a summary in a batch\n",
        "- **batch_size**: number of input sequences in a batch\n",
        "\n",
        "Three components\n",
        "\n",
        "- **TraingHelper** reads a sequence of integers from the encoding layer.\n",
        "- **BasicDecoder** processes the sequence with the decoding cell, and an output layer, which is a fully connected layer. **initial_state** set to zero state.\n",
        "- **dynamic_decode** creates our outputs that will be used for training.\n",
        "\"\"\"\n",
        "\n",
        "def training_decoding_layer(dec_embed_input, summary_length, dec_cell, output_layer,\n",
        "                            vocab_size, max_summary_length,batch_size):\n",
        "    training_helper = tf.contrib.seq2seq.TrainingHelper(inputs=dec_embed_input,\n",
        "                                                        sequence_length=summary_length,\n",
        "                                                        time_major=False)\n",
        "\n",
        "    training_decoder = tf.contrib.seq2seq.BasicDecoder(cell=dec_cell,\n",
        "                                                       helper=training_helper,\n",
        "                                                       initial_state=dec_cell.zero_state(dtype=tf.float32, batch_size=batch_size),\n",
        "                                                       output_layer = output_layer)\n",
        "\n",
        "    training_logits = tf.contrib.seq2seq.dynamic_decode(training_decoder,\n",
        "                                                           output_time_major=False,\n",
        "                                                           impute_finished=True,\n",
        "                                                           maximum_iterations=max_summary_length)\n",
        "    return training_logits"
      ],
      "execution_count": 0,
      "outputs": []
    },
    {
      "cell_type": "code",
      "metadata": {
        "id": "teeLaUQS_BkO",
        "colab_type": "code",
        "colab": {}
      },
      "source": [
        "\n",
        "\"\"\"### Create infer decoding layer\n",
        "\n",
        "parameters\n",
        "- **embeddings**: the CN's word_embedding_matrix\n",
        "- **start_token**: the id of `<GO>`\n",
        "- **end_token**: the id of `<EOS>`\n",
        "- **dec_cell**: the decoder RNN cells' output with attention wapper\n",
        "- **output_layer**: fully connected layer to apply to the RNN output\n",
        "- **max_summary_length**: the maximum length of a summary in a batch\n",
        "- **batch_size**: number of input sequences in a batch\n",
        "\n",
        "**GreedyEmbeddingHelper** argument **start_tokens**: int32 vector shaped [batch_size], the start tokens.\n",
        "\"\"\"\n",
        "\n",
        "def inference_decoding_layer(embeddings, start_token, end_token, dec_cell, output_layer,\n",
        "                             max_summary_length, batch_size):\n",
        "    '''Create the inference logits'''\n",
        "    \n",
        "    start_tokens = tf.tile(tf.constant([start_token], dtype=tf.int32), [batch_size], name='start_tokens')\n",
        "    \n",
        "    inference_helper = tf.contrib.seq2seq.GreedyEmbeddingHelper(embeddings,\n",
        "                                                                start_tokens,\n",
        "                                                                end_token)\n",
        "                \n",
        "    inference_decoder = tf.contrib.seq2seq.BasicDecoder(dec_cell,\n",
        "                                                        inference_helper,\n",
        "                                                        dec_cell.zero_state(dtype=tf.float32, batch_size=batch_size),\n",
        "                                                        output_layer)\n",
        "                \n",
        "    inference_logits = tf.contrib.seq2seq.dynamic_decode(inference_decoder,\n",
        "                                                            output_time_major=False,\n",
        "                                                            impute_finished=True,\n",
        "                                                            maximum_iterations=max_summary_length)\n",
        "    \n",
        "    return inference_logits\n"
      ],
      "execution_count": 0,
      "outputs": []
    },
    {
      "cell_type": "code",
      "metadata": {
        "id": "_YYDzvSk_fHT",
        "colab_type": "code",
        "colab": {}
      },
      "source": [
        "\"\"\"### Create Decoding layer\n",
        "3 parts: decoding cell, attention, and getting our logits.\n",
        "#### Decoding Cell: \n",
        "Just a two layer LSTM with dropout.\n",
        "#### Attention: \n",
        "Using Bhadanau, since trains faster than Luong. \n",
        "\n",
        "**AttentionWrapper** applies the attention mechanism to our decoding cell.\n",
        "\n",
        "parameters\n",
        "- **dec_embed_input**: output of embedding_lookup for a batch of inputs\n",
        "- **embeddings**: the CN's word_embedding_matrix\n",
        "- **enc_output**: encoder layer output, containing the forward and the backward rnn output\n",
        "- **enc_state**: encoder layer state, a tuple containing the forward and the backward final states of bidirectional rnn.\n",
        "- **vocab_size**: vocabulary size i.e. len(vocab_to_int)+1\n",
        "- **text_length**: the actual lengths for each of the input text sequences in the batch\n",
        "- **summary_length**: the actual lengths for each of the input summary sequences in the batch\n",
        "- **max_summary_length**: the maximum length of a summary in a batch\n",
        "- **rnn_size**: The number of units in the LSTM cell\n",
        "- **vocab_to_int**: vocab_to_int the dictionary\n",
        "- **keep_prob**: RNN dropout input keep probability\n",
        "- **batch_size**: number of input sequences in a batch\n",
        "- **num_layers**: number of decoder RNN layer\n",
        "\"\"\"\n",
        "\n",
        "def lstm_cell(lstm_size, keep_prob):\n",
        "    cell = tf.contrib.rnn.BasicLSTMCell(lstm_size)\n",
        "    return tf.contrib.rnn.DropoutWrapper(cell, input_keep_prob = keep_prob)\n",
        "\n",
        "def decoding_layer(dec_embed_input, embeddings, enc_output, enc_state, vocab_size, text_length, summary_length,\n",
        "                   max_summary_length, rnn_size, vocab_to_int, keep_prob, batch_size, num_layers):\n",
        "    '''Create the decoding cell and attention for the training and inference decoding layers'''\n",
        "    dec_cell = tf.contrib.rnn.MultiRNNCell([lstm_cell(rnn_size, keep_prob) for _ in range(num_layers)])\n",
        "    output_layer = Dense(vocab_size,kernel_initializer=tf.truncated_normal_initializer(mean=0.0, stddev=0.1))\n",
        "    attn_mech = tf.contrib.seq2seq.BahdanauAttention(rnn_size,\n",
        "                                                     enc_output,\n",
        "                                                     text_length,\n",
        "                                                     normalize=False,\n",
        "                                                     name='BahdanauAttention')\n",
        "    dec_cell = tf.contrib.seq2seq.AttentionWrapper(dec_cell,attn_mech,rnn_size)\n",
        "    with tf.variable_scope(\"decode\"):\n",
        "        training_logits = training_decoding_layer(dec_embed_input,summary_length,dec_cell,\n",
        "                                                  output_layer,\n",
        "                                                  vocab_size,\n",
        "                                                  max_summary_length,\n",
        "                                                  batch_size)\n",
        "    with tf.variable_scope(\"decode\", reuse=True):\n",
        "        inference_logits = inference_decoding_layer(embeddings,\n",
        "                                                    vocab_to_int['<GO>'],\n",
        "                                                    vocab_to_int['<EOS>'],\n",
        "                                                    dec_cell,\n",
        "                                                    output_layer,\n",
        "                                                    max_summary_length,\n",
        "                                                    batch_size)\n",
        "    return training_logits, inference_logits"
      ],
      "execution_count": 0,
      "outputs": []
    },
    {
      "cell_type": "code",
      "metadata": {
        "id": "xAow-IY4ADf-",
        "colab_type": "code",
        "colab": {}
      },
      "source": [
        "def seq2seq_model(input_data, target_data, keep_prob, text_length, summary_length, max_summary_length, \n",
        "                  vocab_size, rnn_size, num_layers, vocab_to_int, batch_size):\n",
        "    '''Use the previous functions to create the training and inference logits'''\n",
        "    \n",
        "    # Use Numberbatch's embeddings and the newly created ones as our embeddings\n",
        "    embeddings = word_embedding_matrix\n",
        "    enc_embed_input = tf.nn.embedding_lookup(embeddings, input_data)\n",
        "    enc_output, enc_state = encoding_layer(rnn_size, text_length, num_layers, enc_embed_input, keep_prob)\n",
        "    dec_input = process_encoding_input(target_data, vocab_to_int, batch_size) #shape=(batch_size, senquence length) each seq start with index of<GO>\n",
        "    dec_embed_input = tf.nn.embedding_lookup(embeddings, dec_input)\n",
        "    training_logits, inference_logits  = decoding_layer(dec_embed_input, \n",
        "                                                        embeddings,\n",
        "                                                        enc_output,\n",
        "                                                        enc_state, \n",
        "                                                        vocab_size, \n",
        "                                                        text_length, \n",
        "                                                        summary_length, \n",
        "                                                        max_summary_length,\n",
        "                                                        rnn_size, \n",
        "                                                        vocab_to_int, \n",
        "                                                        keep_prob, \n",
        "                                                        batch_size,\n",
        "                                                        num_layers)\n",
        "    return training_logits, inference_logits"
      ],
      "execution_count": 0,
      "outputs": []
    },
    {
      "cell_type": "code",
      "metadata": {
        "id": "0HBFG5PjAQhl",
        "colab_type": "code",
        "colab": {}
      },
      "source": [
        "def pad_sentence_batch(sentence_batch):\n",
        "    \"\"\"Pad sentences with <PAD> so that each sentence of a batch has the same length\"\"\"\n",
        "    max_sentence = max([len(sentence) for sentence in sentence_batch])\n",
        "    return [sentence + [vocab_to_int['<PAD>']] * (max_sentence - len(sentence)) for sentence in sentence_batch]\n"
      ],
      "execution_count": 0,
      "outputs": []
    },
    {
      "cell_type": "code",
      "metadata": {
        "id": "LwLjUsJ-wQNj",
        "colab_type": "code",
        "colab": {}
      },
      "source": [
        "def get_batches(summaries, texts, batch_size):\n",
        "    \"\"\"Batch summaries, texts, and the lengths of their sentences together\"\"\"\n",
        "    for batch_i in range(0, len(texts)//batch_size):\n",
        "        start_i = batch_i * batch_size\n",
        "        summaries_batch = summaries[start_i:start_i + batch_size]\n",
        "        texts_batch = texts[start_i:start_i + batch_size]\n",
        "        pad_summaries_batch = np.array(pad_sentence_batch(summaries_batch))\n",
        "        pad_texts_batch = np.array(pad_sentence_batch(texts_batch))\n",
        "        \n",
        "        # Need the lengths for the _lengths parameters\n",
        "        pad_summaries_lengths = []\n",
        "        for summary in pad_summaries_batch:\n",
        "            pad_summaries_lengths.append(len(summary))\n",
        "        \n",
        "        pad_texts_lengths = []\n",
        "        for text in pad_texts_batch:\n",
        "            pad_texts_lengths.append(len(text))\n",
        "        \n",
        "        yield pad_summaries_batch, pad_texts_batch, pad_summaries_lengths, pad_texts_lengths\n"
      ],
      "execution_count": 0,
      "outputs": []
    },
    {
      "cell_type": "code",
      "metadata": {
        "id": "u0Q_xu4IAns2",
        "colab_type": "code",
        "outputId": "803a6114-5254-4f35-c1a4-d11f55a43ab8",
        "colab": {
          "base_uri": "https://localhost:8080/",
          "height": 136
        }
      },
      "source": [
        "print(\"'<PAD>' has id: {}\".format(vocab_to_int['<PAD>']))\n",
        "sorted_summaries_samples = sorted_summaries[7:50]\n",
        "sorted_texts_samples = sorted_texts[7:50]\n",
        "pad_summaries_batch_samples, pad_texts_batch_samples, pad_summaries_lengths_samples, pad_texts_lengths_samples = next(get_batches(\n",
        "    sorted_summaries_samples, sorted_texts_samples, 5))\n",
        "print(\"pad summaries batch samples:\\n\\r {}\".format(pad_summaries_batch_samples))"
      ],
      "execution_count": 0,
      "outputs": [
        {
          "output_type": "stream",
          "text": [
            "'<PAD>' has id: 65466\n",
            "pad summaries batch samples:\n",
            "\r [[   13    28  1069  2816 65466 65466 65466 65466 65466 65466]\n",
            " [  359    79   380  2219    91  1151   102     0    70   188]\n",
            " [    1    61   102     4    50    30   233    93   691 65466]\n",
            " [    0   108 65466 65466 65466 65466 65466 65466 65466 65466]\n",
            " [    0   102   639 65466 65466 65466 65466 65466 65466 65466]]\n"
          ],
          "name": "stdout"
        }
      ]
    },
    {
      "cell_type": "code",
      "metadata": {
        "id": "-vr5ISpDwYdQ",
        "colab_type": "code",
        "colab": {}
      },
      "source": [
        "# Set the Hyperparameters\n",
        "epochs = 100\n",
        "batch_size = 64\n",
        "rnn_size = 256\n",
        "num_layers = 2\n",
        "learning_rate = 0.005\n",
        "keep_probability = 0.75"
      ],
      "execution_count": 0,
      "outputs": []
    },
    {
      "cell_type": "code",
      "metadata": {
        "id": "EvCWR6xcy9C1",
        "colab_type": "code",
        "outputId": "c71f19cb-071d-4e12-d194-2d9f0a1396fb",
        "colab": {
          "base_uri": "https://localhost:8080/",
          "height": 173
        }
      },
      "source": [
        "# Build the graph\n",
        "train_graph = tf.Graph()\n",
        "# Set the graph to default to ensure that it is ready for training\n",
        "with train_graph.as_default():\n",
        "    \n",
        "    # Load the model inputs    \n",
        "    input_data, targets, lr, keep_prob, summary_length, max_summary_length, text_length = model_inputs()\n",
        "\n",
        "    # Create the training and inference logits\n",
        "    training_logits, inference_logits = seq2seq_model(tf.reverse(input_data, [-1]),\n",
        "                                                      targets, \n",
        "                                                      keep_prob,   \n",
        "                                                      text_length,\n",
        "                                                      summary_length,\n",
        "                                                      max_summary_length,\n",
        "                                                      len(vocab_to_int)+1,\n",
        "                                                      rnn_size, \n",
        "                                                      num_layers, \n",
        "                                                      vocab_to_int,\n",
        "                                                      batch_size)\n",
        "    \n",
        "    # Create tensors for the training logits and inference logits\n",
        "    training_logits = tf.identity(training_logits[0].rnn_output, 'logits')\n",
        "    inference_logits = tf.identity(inference_logits[0].sample_id, name='predictions')\n",
        "    \n",
        "    # Create the weights for sequence_loss, the sould be all True across since each batch is padded\n",
        "    masks = tf.sequence_mask(summary_length, max_summary_length, dtype=tf.float32, name='masks')\n",
        "\n",
        "    with tf.name_scope(\"optimization\"):\n",
        "        # Loss function\n",
        "        cost = tf.contrib.seq2seq.sequence_loss(\n",
        "            training_logits,\n",
        "            targets,\n",
        "            masks)\n",
        "\n",
        "        # Optimizer\n",
        "        optimizer = tf.train.AdamOptimizer(learning_rate)\n",
        "\n",
        "        # Gradient Clipping\n",
        "        gradients = optimizer.compute_gradients(cost)\n",
        "        capped_gradients = [(tf.clip_by_value(grad, -5., 5.), var) for grad, var in gradients if grad is not None]\n",
        "        train_op = optimizer.apply_gradients(capped_gradients)\n",
        "print(\"Graph is built.\")\n",
        "graph_location = \"../output/graph\"\n",
        "print(graph_location)\n",
        "train_writer = tf.summary.FileWriter(graph_location)\n",
        "train_writer.add_graph(train_graph)"
      ],
      "execution_count": 0,
      "outputs": [
        {
          "output_type": "stream",
          "text": [
            "W0711 17:11:23.222953 140207182202752 deprecation.py:323] From <ipython-input-63-e5ed514e649b>:2: BasicLSTMCell.__init__ (from tensorflow.python.ops.rnn_cell_impl) is deprecated and will be removed in a future version.\n",
            "Instructions for updating:\n",
            "This class is equivalent as tf.keras.layers.LSTMCell, and will be replaced by that in Tensorflow 2.0.\n",
            "W0711 17:11:23.232619 140207182202752 deprecation.py:323] From <ipython-input-63-e5ed514e649b>:8: MultiRNNCell.__init__ (from tensorflow.python.ops.rnn_cell_impl) is deprecated and will be removed in a future version.\n",
            "Instructions for updating:\n",
            "This class is equivalent as tf.keras.layers.StackedRNNCells, and will be replaced by that in Tensorflow 2.0.\n"
          ],
          "name": "stderr"
        },
        {
          "output_type": "stream",
          "text": [
            "Graph is built.\n",
            "../output/graph\n"
          ],
          "name": "stdout"
        }
      ]
    },
    {
      "cell_type": "code",
      "metadata": {
        "id": "5mR650RvwYvu",
        "colab_type": "code",
        "outputId": "04e1a5e7-f30e-43b4-f2bb-89e149ae5bb8",
        "colab": {
          "base_uri": "https://localhost:8080/",
          "height": 51
        }
      },
      "source": [
        "# Subset the data for training\n",
        "start = 200000\n",
        "end = start + 50000\n",
        "sorted_summaries_short = sorted_summaries[start:end]\n",
        "sorted_texts_short = sorted_texts[start:end]\n",
        "print(\"The shortest text length:\", len(sorted_texts_short[0]))\n",
        "print(\"The longest text length:\",len(sorted_texts_short[-1]))"
      ],
      "execution_count": 0,
      "outputs": [
        {
          "output_type": "stream",
          "text": [
            "The shortest text length: 25\n",
            "The longest text length: 31\n"
          ],
          "name": "stdout"
        }
      ]
    },
    {
      "cell_type": "code",
      "metadata": {
        "id": "G2CdNYv5x3Nb",
        "colab_type": "code",
        "outputId": "d5105224-c7b1-47f6-a417-b3d33dd36159",
        "colab": {
          "base_uri": "https://localhost:8080/",
          "height": 1000
        }
      },
      "source": [
        "# Train the Model\n",
        "learning_rate_decay = 0.95\n",
        "min_learning_rate = 0.0005\n",
        "display_step = 20 # Check training loss after every 20 batches\n",
        "stop_early = 0 \n",
        "stop = 3 # If the update loss does not decrease in 3 consecutive update checks, stop training\n",
        "per_epoch = 3 # Make 3 update checks per epoch\n",
        "update_check = (len(sorted_texts_short)//batch_size//per_epoch)-1\n",
        "\n",
        "update_loss = 0 \n",
        "batch_loss = 0\n",
        "summary_update_loss = [] # Record the update losses for saving improvements in the model\n",
        "\n",
        "checkpoint = \"../output/best_model.ckpt\" \n",
        "with tf.Session(graph=train_graph) as sess:\n",
        "    sess.run(tf.global_variables_initializer())\n",
        "    \n",
        "    # If we want to continue training a previous session\n",
        "    #loader = tf.train.import_meta_graph(\"../output/\" + checkpoint + '.meta')\n",
        "    #loader.restore(sess, checkpoint)\n",
        "    \n",
        "    for epoch_i in range(1, epochs+1):\n",
        "        update_loss = 0\n",
        "        batch_loss = 0\n",
        "        for batch_i, (summaries_batch, texts_batch, summaries_lengths, texts_lengths) in enumerate(\n",
        "                get_batches(sorted_summaries_short, sorted_texts_short, batch_size)):\n",
        "            start_time = time.time()\n",
        "            _, loss = sess.run(\n",
        "                [train_op, cost],\n",
        "                {input_data: texts_batch,\n",
        "                 targets: summaries_batch,\n",
        "                 lr: learning_rate,\n",
        "                 summary_length: summaries_lengths,\n",
        "                 text_length: texts_lengths,\n",
        "                 keep_prob: keep_probability})\n",
        "\n",
        "            batch_loss += loss\n",
        "            update_loss += loss\n",
        "            end_time = time.time()\n",
        "            batch_time = end_time - start_time\n",
        "\n",
        "            if batch_i % display_step == 0 and batch_i > 0:\n",
        "                print('Epoch {:>3}/{} Batch {:>4}/{} - Loss: {:>6.3f}, Seconds: {:>4.2f}'\n",
        "                      .format(epoch_i,\n",
        "                              epochs, \n",
        "                              batch_i, \n",
        "                              len(sorted_texts_short) // batch_size, \n",
        "                              batch_loss / display_step, \n",
        "                              batch_time*display_step))\n",
        "                batch_loss = 0\n",
        "\n",
        "            if batch_i % update_check == 0 and batch_i > 0:\n",
        "                print(\"Average loss for this update:\", round(update_loss/update_check,3))\n",
        "                summary_update_loss.append(update_loss)\n",
        "                \n",
        "                # If the update loss is at a new minimum, save the model\n",
        "                if update_loss <= min(summary_update_loss):\n",
        "                    print('New Record!') \n",
        "                    stop_early = 0\n",
        "                    saver = tf.train.Saver() \n",
        "                    saver.save(sess, checkpoint)\n",
        "\n",
        "                else:\n",
        "                    print(\"No Improvement.\")\n",
        "                    stop_early += 1\n",
        "                    if stop_early == stop:\n",
        "                        break\n",
        "                update_loss = 0\n",
        "            \n",
        "                    \n",
        "        # Reduce learning rate, but not below its minimum value\n",
        "        learning_rate *= learning_rate_decay\n",
        "        if learning_rate < min_learning_rate:\n",
        "            learning_rate = min_learning_rate\n",
        "        \n",
        "        if stop_early == stop:\n",
        "            print(\"Stopping Training.\")\n",
        "            break"
      ],
      "execution_count": 0,
      "outputs": [
        {
          "output_type": "stream",
          "text": [
            "Epoch   1/100 Batch   20/781 - Loss:  4.962, Seconds: 2.81\n",
            "Epoch   1/100 Batch   40/781 - Loss:  2.891, Seconds: 2.35\n",
            "Epoch   1/100 Batch   60/781 - Loss:  2.832, Seconds: 2.59\n",
            "Epoch   1/100 Batch   80/781 - Loss:  2.822, Seconds: 2.37\n",
            "Epoch   1/100 Batch  100/781 - Loss:  2.858, Seconds: 2.26\n",
            "Epoch   1/100 Batch  120/781 - Loss:  2.797, Seconds: 2.56\n",
            "Epoch   1/100 Batch  140/781 - Loss:  2.741, Seconds: 2.82\n",
            "Epoch   1/100 Batch  160/781 - Loss:  2.688, Seconds: 2.26\n",
            "Epoch   1/100 Batch  180/781 - Loss:  2.571, Seconds: 2.37\n",
            "Epoch   1/100 Batch  200/781 - Loss:  2.638, Seconds: 2.67\n",
            "Epoch   1/100 Batch  220/781 - Loss:  2.685, Seconds: 2.74\n",
            "Epoch   1/100 Batch  240/781 - Loss:  2.678, Seconds: 2.71\n",
            "Average loss for this update: 2.904\n",
            "New Record!\n",
            "Epoch   1/100 Batch  260/781 - Loss:  2.566, Seconds: 3.77\n",
            "Epoch   1/100 Batch  280/781 - Loss:  2.480, Seconds: 2.84\n",
            "Epoch   1/100 Batch  300/781 - Loss:  2.383, Seconds: 2.58\n",
            "Epoch   1/100 Batch  320/781 - Loss:  2.534, Seconds: 2.29\n",
            "Epoch   1/100 Batch  340/781 - Loss:  2.600, Seconds: 2.53\n",
            "Epoch   1/100 Batch  360/781 - Loss:  2.662, Seconds: 2.91\n",
            "Epoch   1/100 Batch  380/781 - Loss:  2.599, Seconds: 2.95\n",
            "Epoch   1/100 Batch  400/781 - Loss:  2.535, Seconds: 2.53\n",
            "Epoch   1/100 Batch  420/781 - Loss:  2.347, Seconds: 2.83\n",
            "Epoch   1/100 Batch  440/781 - Loss:  2.340, Seconds: 3.14\n",
            "Epoch   1/100 Batch  460/781 - Loss:  2.384, Seconds: 2.65\n",
            "Epoch   1/100 Batch  480/781 - Loss:  2.627, Seconds: 2.85\n",
            "Epoch   1/100 Batch  500/781 - Loss:  2.576, Seconds: 2.57\n",
            "Average loss for this update: 2.503\n",
            "New Record!\n",
            "Epoch   1/100 Batch  520/781 - Loss:  2.442, Seconds: 3.31\n",
            "Epoch   1/100 Batch  540/781 - Loss:  2.481, Seconds: 2.54\n",
            "Epoch   1/100 Batch  560/781 - Loss:  2.413, Seconds: 2.43\n",
            "Epoch   1/100 Batch  580/781 - Loss:  2.386, Seconds: 2.49\n",
            "Epoch   1/100 Batch  600/781 - Loss:  2.460, Seconds: 2.38\n",
            "Epoch   1/100 Batch  620/781 - Loss:  2.483, Seconds: 2.38\n",
            "Epoch   1/100 Batch  640/781 - Loss:  2.705, Seconds: 2.87\n",
            "Epoch   1/100 Batch  660/781 - Loss:  2.605, Seconds: 2.58\n",
            "Epoch   1/100 Batch  680/781 - Loss:  2.463, Seconds: 2.74\n",
            "Epoch   1/100 Batch  700/781 - Loss:  2.450, Seconds: 2.99\n",
            "Epoch   1/100 Batch  720/781 - Loss:  2.271, Seconds: 3.07\n",
            "Epoch   1/100 Batch  740/781 - Loss:  2.276, Seconds: 3.12\n",
            "Epoch   1/100 Batch  760/781 - Loss:  2.553, Seconds: 2.76\n",
            "Average loss for this update: 2.466\n",
            "New Record!\n",
            "Epoch   1/100 Batch  780/781 - Loss:  2.596, Seconds: 2.52\n",
            "Epoch   2/100 Batch   20/781 - Loss:  2.450, Seconds: 2.89\n",
            "Epoch   2/100 Batch   40/781 - Loss:  2.279, Seconds: 2.41\n",
            "Epoch   2/100 Batch   60/781 - Loss:  2.283, Seconds: 2.60\n",
            "Epoch   2/100 Batch   80/781 - Loss:  2.295, Seconds: 2.58\n",
            "Epoch   2/100 Batch  100/781 - Loss:  2.329, Seconds: 2.32\n",
            "Epoch   2/100 Batch  120/781 - Loss:  2.308, Seconds: 2.72\n",
            "Epoch   2/100 Batch  140/781 - Loss:  2.196, Seconds: 2.93\n",
            "Epoch   2/100 Batch  160/781 - Loss:  2.186, Seconds: 2.27\n",
            "Epoch   2/100 Batch  180/781 - Loss:  2.049, Seconds: 2.45\n",
            "Epoch   2/100 Batch  200/781 - Loss:  2.180, Seconds: 2.70\n",
            "Epoch   2/100 Batch  220/781 - Loss:  2.243, Seconds: 2.77\n",
            "Epoch   2/100 Batch  240/781 - Loss:  2.225, Seconds: 2.81\n",
            "Average loss for this update: 2.241\n",
            "New Record!\n",
            "Epoch   2/100 Batch  260/781 - Loss:  2.093, Seconds: 3.99\n",
            "Epoch   2/100 Batch  280/781 - Loss:  2.005, Seconds: 2.74\n",
            "Epoch   2/100 Batch  300/781 - Loss:  1.906, Seconds: 2.61\n",
            "Epoch   2/100 Batch  320/781 - Loss:  2.074, Seconds: 2.34\n",
            "Epoch   2/100 Batch  340/781 - Loss:  2.137, Seconds: 2.54\n",
            "Epoch   2/100 Batch  360/781 - Loss:  2.256, Seconds: 2.94\n",
            "Epoch   2/100 Batch  380/781 - Loss:  2.166, Seconds: 2.84\n",
            "Epoch   2/100 Batch  400/781 - Loss:  2.111, Seconds: 2.52\n",
            "Epoch   2/100 Batch  420/781 - Loss:  1.926, Seconds: 2.80\n",
            "Epoch   2/100 Batch  440/781 - Loss:  1.903, Seconds: 3.03\n",
            "Epoch   2/100 Batch  460/781 - Loss:  1.973, Seconds: 2.89\n",
            "Epoch   2/100 Batch  480/781 - Loss:  2.182, Seconds: 2.84\n",
            "Epoch   2/100 Batch  500/781 - Loss:  2.170, Seconds: 2.50\n",
            "Average loss for this update: 2.066\n",
            "New Record!\n",
            "Epoch   2/100 Batch  520/781 - Loss:  2.024, Seconds: 3.21\n",
            "Epoch   2/100 Batch  540/781 - Loss:  2.079, Seconds: 2.54\n",
            "Epoch   2/100 Batch  560/781 - Loss:  1.957, Seconds: 2.43\n",
            "Epoch   2/100 Batch  580/781 - Loss:  1.943, Seconds: 2.54\n",
            "Epoch   2/100 Batch  600/781 - Loss:  2.023, Seconds: 2.43\n",
            "Epoch   2/100 Batch  620/781 - Loss:  2.065, Seconds: 2.36\n",
            "Epoch   2/100 Batch  640/781 - Loss:  2.297, Seconds: 2.84\n",
            "Epoch   2/100 Batch  660/781 - Loss:  2.167, Seconds: 2.54\n",
            "Epoch   2/100 Batch  680/781 - Loss:  2.060, Seconds: 2.62\n",
            "Epoch   2/100 Batch  700/781 - Loss:  1.981, Seconds: 2.98\n",
            "Epoch   2/100 Batch  720/781 - Loss:  1.870, Seconds: 2.95\n",
            "Epoch   2/100 Batch  740/781 - Loss:  1.884, Seconds: 3.14\n",
            "Epoch   2/100 Batch  760/781 - Loss:  2.235, Seconds: 2.79\n",
            "Average loss for this update: 2.057\n",
            "New Record!\n",
            "Epoch   2/100 Batch  780/781 - Loss:  2.272, Seconds: 2.54\n",
            "Epoch   3/100 Batch   20/781 - Loss:  2.196, Seconds: 2.81\n",
            "Epoch   3/100 Batch   40/781 - Loss:  1.997, Seconds: 2.37\n",
            "Epoch   3/100 Batch   60/781 - Loss:  2.014, Seconds: 2.63\n",
            "Epoch   3/100 Batch   80/781 - Loss:  2.000, Seconds: 2.43\n",
            "Epoch   3/100 Batch  100/781 - Loss:  2.020, Seconds: 2.35\n",
            "Epoch   3/100 Batch  120/781 - Loss:  1.987, Seconds: 2.58\n",
            "Epoch   3/100 Batch  140/781 - Loss:  1.852, Seconds: 3.02\n",
            "Epoch   3/100 Batch  160/781 - Loss:  1.867, Seconds: 2.27\n",
            "Epoch   3/100 Batch  180/781 - Loss:  1.756, Seconds: 2.42\n",
            "Epoch   3/100 Batch  200/781 - Loss:  1.904, Seconds: 2.79\n",
            "Epoch   3/100 Batch  220/781 - Loss:  1.940, Seconds: 2.74\n",
            "Epoch   3/100 Batch  240/781 - Loss:  1.923, Seconds: 2.70\n",
            "Average loss for this update: 1.944\n",
            "New Record!\n",
            "Epoch   3/100 Batch  260/781 - Loss:  1.799, Seconds: 4.36\n",
            "Epoch   3/100 Batch  280/781 - Loss:  1.702, Seconds: 2.71\n",
            "Epoch   3/100 Batch  300/781 - Loss:  1.612, Seconds: 2.65\n",
            "Epoch   3/100 Batch  320/781 - Loss:  1.792, Seconds: 2.33\n",
            "Epoch   3/100 Batch  340/781 - Loss:  1.840, Seconds: 2.52\n",
            "Epoch   3/100 Batch  360/781 - Loss:  2.013, Seconds: 3.03\n",
            "Epoch   3/100 Batch  380/781 - Loss:  1.889, Seconds: 2.81\n",
            "Epoch   3/100 Batch  400/781 - Loss:  1.834, Seconds: 2.49\n",
            "Epoch   3/100 Batch  420/781 - Loss:  1.675, Seconds: 2.80\n",
            "Epoch   3/100 Batch  440/781 - Loss:  1.642, Seconds: 2.95\n",
            "Epoch   3/100 Batch  460/781 - Loss:  1.713, Seconds: 2.66\n",
            "Epoch   3/100 Batch  480/781 - Loss:  1.895, Seconds: 2.83\n",
            "Epoch   3/100 Batch  500/781 - Loss:  1.918, Seconds: 2.56\n",
            "Average loss for this update: 1.793\n",
            "New Record!\n",
            "Epoch   3/100 Batch  520/781 - Loss:  1.763, Seconds: 3.49\n",
            "Epoch   3/100 Batch  540/781 - Loss:  1.817, Seconds: 2.55\n",
            "Epoch   3/100 Batch  560/781 - Loss:  1.674, Seconds: 2.37\n",
            "Epoch   3/100 Batch  580/781 - Loss:  1.682, Seconds: 2.53\n",
            "Epoch   3/100 Batch  600/781 - Loss:  1.773, Seconds: 2.37\n",
            "Epoch   3/100 Batch  620/781 - Loss:  1.805, Seconds: 2.44\n",
            "Epoch   3/100 Batch  640/781 - Loss:  2.027, Seconds: 2.89\n",
            "Epoch   3/100 Batch  660/781 - Loss:  1.875, Seconds: 2.59\n",
            "Epoch   3/100 Batch  680/781 - Loss:  1.800, Seconds: 2.72\n",
            "Epoch   3/100 Batch  700/781 - Loss:  1.697, Seconds: 2.85\n",
            "Epoch   3/100 Batch  720/781 - Loss:  1.639, Seconds: 3.02\n",
            "Epoch   3/100 Batch  740/781 - Loss:  1.646, Seconds: 3.11\n",
            "Epoch   3/100 Batch  760/781 - Loss:  2.023, Seconds: 2.97\n",
            "Average loss for this update: 1.803\n",
            "No Improvement.\n",
            "Epoch   3/100 Batch  780/781 - Loss:  2.067, Seconds: 2.35\n",
            "Epoch   4/100 Batch   20/781 - Loss:  2.021, Seconds: 2.78\n",
            "Epoch   4/100 Batch   40/781 - Loss:  1.810, Seconds: 2.40\n",
            "Epoch   4/100 Batch   60/781 - Loss:  1.808, Seconds: 2.63\n",
            "Epoch   4/100 Batch   80/781 - Loss:  1.803, Seconds: 2.40\n",
            "Epoch   4/100 Batch  100/781 - Loss:  1.803, Seconds: 2.32\n",
            "Epoch   4/100 Batch  120/781 - Loss:  1.780, Seconds: 2.69\n",
            "Epoch   4/100 Batch  140/781 - Loss:  1.621, Seconds: 2.90\n",
            "Epoch   4/100 Batch  160/781 - Loss:  1.657, Seconds: 2.33\n",
            "Epoch   4/100 Batch  180/781 - Loss:  1.566, Seconds: 2.48\n",
            "Epoch   4/100 Batch  200/781 - Loss:  1.711, Seconds: 2.74\n",
            "Epoch   4/100 Batch  220/781 - Loss:  1.726, Seconds: 2.71\n",
            "Epoch   4/100 Batch  240/781 - Loss:  1.710, Seconds: 2.84\n",
            "Average loss for this update: 1.74\n",
            "New Record!\n",
            "Epoch   4/100 Batch  260/781 - Loss:  1.591, Seconds: 4.29\n",
            "Epoch   4/100 Batch  280/781 - Loss:  1.506, Seconds: 2.75\n",
            "Epoch   4/100 Batch  300/781 - Loss:  1.424, Seconds: 2.57\n",
            "Epoch   4/100 Batch  320/781 - Loss:  1.597, Seconds: 2.31\n",
            "Epoch   4/100 Batch  340/781 - Loss:  1.637, Seconds: 2.52\n",
            "Epoch   4/100 Batch  360/781 - Loss:  1.808, Seconds: 2.99\n",
            "Epoch   4/100 Batch  380/781 - Loss:  1.685, Seconds: 2.84\n",
            "Epoch   4/100 Batch  400/781 - Loss:  1.636, Seconds: 2.51\n",
            "Epoch   4/100 Batch  420/781 - Loss:  1.522, Seconds: 2.84\n",
            "Epoch   4/100 Batch  440/781 - Loss:  1.484, Seconds: 3.16\n",
            "Epoch   4/100 Batch  460/781 - Loss:  1.538, Seconds: 2.72\n",
            "Epoch   4/100 Batch  480/781 - Loss:  1.673, Seconds: 2.82\n",
            "Epoch   4/100 Batch  500/781 - Loss:  1.716, Seconds: 2.53\n",
            "Average loss for this update: 1.601\n",
            "New Record!\n",
            "Epoch   4/100 Batch  520/781 - Loss:  1.563, Seconds: 3.17\n",
            "Epoch   4/100 Batch  540/781 - Loss:  1.632, Seconds: 2.57\n",
            "Epoch   4/100 Batch  560/781 - Loss:  1.501, Seconds: 2.40\n",
            "Epoch   4/100 Batch  580/781 - Loss:  1.491, Seconds: 2.45\n",
            "Epoch   4/100 Batch  600/781 - Loss:  1.567, Seconds: 2.48\n",
            "Epoch   4/100 Batch  620/781 - Loss:  1.602, Seconds: 2.61\n",
            "Epoch   4/100 Batch  640/781 - Loss:  1.819, Seconds: 2.89\n",
            "Epoch   4/100 Batch  660/781 - Loss:  1.672, Seconds: 2.60\n",
            "Epoch   4/100 Batch  680/781 - Loss:  1.610, Seconds: 2.70\n",
            "Epoch   4/100 Batch  700/781 - Loss:  1.501, Seconds: 2.89\n",
            "Epoch   4/100 Batch  720/781 - Loss:  1.468, Seconds: 2.98\n",
            "Epoch   4/100 Batch  740/781 - Loss:  1.476, Seconds: 3.02\n",
            "Epoch   4/100 Batch  760/781 - Loss:  1.859, Seconds: 2.76\n",
            "Average loss for this update: 1.616\n",
            "No Improvement.\n",
            "Epoch   4/100 Batch  780/781 - Loss:  1.902, Seconds: 2.29\n",
            "Epoch   5/100 Batch   20/781 - Loss:  1.879, Seconds: 2.91\n",
            "Epoch   5/100 Batch   40/781 - Loss:  1.659, Seconds: 2.43\n",
            "Epoch   5/100 Batch   60/781 - Loss:  1.659, Seconds: 2.58\n",
            "Epoch   5/100 Batch   80/781 - Loss:  1.640, Seconds: 2.37\n",
            "Epoch   5/100 Batch  100/781 - Loss:  1.651, Seconds: 2.44\n",
            "Epoch   5/100 Batch  120/781 - Loss:  1.626, Seconds: 2.68\n",
            "Epoch   5/100 Batch  140/781 - Loss:  1.467, Seconds: 2.94\n",
            "Epoch   5/100 Batch  160/781 - Loss:  1.495, Seconds: 2.35\n",
            "Epoch   5/100 Batch  180/781 - Loss:  1.435, Seconds: 2.51\n",
            "Epoch   5/100 Batch  200/781 - Loss:  1.552, Seconds: 2.74\n",
            "Epoch   5/100 Batch  220/781 - Loss:  1.565, Seconds: 2.82\n",
            "Epoch   5/100 Batch  240/781 - Loss:  1.558, Seconds: 2.71\n",
            "Average loss for this update: 1.587\n",
            "New Record!\n",
            "Epoch   5/100 Batch  260/781 - Loss:  1.440, Seconds: 4.14\n",
            "Epoch   5/100 Batch  280/781 - Loss:  1.357, Seconds: 3.08\n",
            "Epoch   5/100 Batch  300/781 - Loss:  1.273, Seconds: 2.60\n",
            "Epoch   5/100 Batch  320/781 - Loss:  1.444, Seconds: 2.28\n",
            "Epoch   5/100 Batch  340/781 - Loss:  1.481, Seconds: 2.43\n",
            "Epoch   5/100 Batch  360/781 - Loss:  1.641, Seconds: 2.94\n",
            "Epoch   5/100 Batch  380/781 - Loss:  1.536, Seconds: 3.00\n",
            "Epoch   5/100 Batch  400/781 - Loss:  1.477, Seconds: 2.47\n",
            "Epoch   5/100 Batch  420/781 - Loss:  1.379, Seconds: 2.81\n",
            "Epoch   5/100 Batch  440/781 - Loss:  1.329, Seconds: 2.99\n",
            "Epoch   5/100 Batch  460/781 - Loss:  1.397, Seconds: 2.69\n",
            "Epoch   5/100 Batch  480/781 - Loss:  1.512, Seconds: 2.95\n",
            "Epoch   5/100 Batch  500/781 - Loss:  1.566, Seconds: 2.58\n",
            "Average loss for this update: 1.448\n",
            "New Record!\n",
            "Epoch   5/100 Batch  520/781 - Loss:  1.410, Seconds: 3.33\n",
            "Epoch   5/100 Batch  540/781 - Loss:  1.496, Seconds: 2.57\n",
            "Epoch   5/100 Batch  560/781 - Loss:  1.341, Seconds: 2.42\n",
            "Epoch   5/100 Batch  580/781 - Loss:  1.359, Seconds: 2.59\n",
            "Epoch   5/100 Batch  600/781 - Loss:  1.411, Seconds: 2.38\n",
            "Epoch   5/100 Batch  620/781 - Loss:  1.455, Seconds: 2.44\n",
            "Epoch   5/100 Batch  640/781 - Loss:  1.646, Seconds: 2.88\n",
            "Epoch   5/100 Batch  660/781 - Loss:  1.513, Seconds: 2.52\n",
            "Epoch   5/100 Batch  680/781 - Loss:  1.484, Seconds: 2.55\n",
            "Epoch   5/100 Batch  700/781 - Loss:  1.337, Seconds: 2.85\n",
            "Epoch   5/100 Batch  720/781 - Loss:  1.321, Seconds: 3.03\n",
            "Epoch   5/100 Batch  740/781 - Loss:  1.340, Seconds: 3.07\n",
            "Epoch   5/100 Batch  760/781 - Loss:  1.731, Seconds: 2.81\n",
            "Average loss for this update: 1.469\n",
            "No Improvement.\n",
            "Epoch   5/100 Batch  780/781 - Loss:  1.746, Seconds: 2.37\n",
            "Epoch   6/100 Batch   20/781 - Loss:  1.743, Seconds: 2.93\n",
            "Epoch   6/100 Batch   40/781 - Loss:  1.537, Seconds: 2.40\n",
            "Epoch   6/100 Batch   60/781 - Loss:  1.523, Seconds: 2.59\n",
            "Epoch   6/100 Batch   80/781 - Loss:  1.491, Seconds: 2.71\n",
            "Epoch   6/100 Batch  100/781 - Loss:  1.502, Seconds: 2.32\n",
            "Epoch   6/100 Batch  120/781 - Loss:  1.482, Seconds: 2.82\n",
            "Epoch   6/100 Batch  140/781 - Loss:  1.333, Seconds: 2.90\n",
            "Epoch   6/100 Batch  160/781 - Loss:  1.373, Seconds: 2.30\n",
            "Epoch   6/100 Batch  180/781 - Loss:  1.322, Seconds: 2.42\n",
            "Epoch   6/100 Batch  200/781 - Loss:  1.430, Seconds: 2.74\n",
            "Epoch   6/100 Batch  220/781 - Loss:  1.431, Seconds: 2.81\n",
            "Epoch   6/100 Batch  240/781 - Loss:  1.421, Seconds: 2.73\n",
            "Average loss for this update: 1.455\n",
            "No Improvement.\n",
            "Epoch   6/100 Batch  260/781 - Loss:  1.315, Seconds: 2.91\n",
            "Epoch   6/100 Batch  280/781 - Loss:  1.233, Seconds: 2.74\n",
            "Epoch   6/100 Batch  300/781 - Loss:  1.184, Seconds: 2.62\n",
            "Epoch   6/100 Batch  320/781 - Loss:  1.335, Seconds: 2.33\n",
            "Epoch   6/100 Batch  340/781 - Loss:  1.363, Seconds: 2.47\n",
            "Epoch   6/100 Batch  360/781 - Loss:  1.509, Seconds: 3.00\n",
            "Epoch   6/100 Batch  380/781 - Loss:  1.399, Seconds: 2.80\n",
            "Epoch   6/100 Batch  400/781 - Loss:  1.354, Seconds: 2.52\n",
            "Epoch   6/100 Batch  420/781 - Loss:  1.270, Seconds: 2.90\n",
            "Epoch   6/100 Batch  440/781 - Loss:  1.227, Seconds: 2.96\n",
            "Epoch   6/100 Batch  460/781 - Loss:  1.291, Seconds: 2.63\n",
            "Epoch   6/100 Batch  480/781 - Loss:  1.382, Seconds: 2.82\n",
            "Epoch   6/100 Batch  500/781 - Loss:  1.424, Seconds: 2.60\n",
            "Average loss for this update: 1.329\n",
            "New Record!\n",
            "Epoch   6/100 Batch  520/781 - Loss:  1.293, Seconds: 3.27\n",
            "Epoch   6/100 Batch  540/781 - Loss:  1.373, Seconds: 2.55\n",
            "Epoch   6/100 Batch  560/781 - Loss:  1.228, Seconds: 2.42\n",
            "Epoch   6/100 Batch  580/781 - Loss:  1.237, Seconds: 2.50\n",
            "Epoch   6/100 Batch  600/781 - Loss:  1.305, Seconds: 2.43\n",
            "Epoch   6/100 Batch  620/781 - Loss:  1.330, Seconds: 2.43\n",
            "Epoch   6/100 Batch  640/781 - Loss:  1.526, Seconds: 2.89\n",
            "Epoch   6/100 Batch  660/781 - Loss:  1.406, Seconds: 2.53\n",
            "Epoch   6/100 Batch  680/781 - Loss:  1.363, Seconds: 2.57\n",
            "Epoch   6/100 Batch  700/781 - Loss:  1.225, Seconds: 2.90\n",
            "Epoch   6/100 Batch  720/781 - Loss:  1.216, Seconds: 3.01\n",
            "Epoch   6/100 Batch  740/781 - Loss:  1.221, Seconds: 3.05\n",
            "Epoch   6/100 Batch  760/781 - Loss:  1.622, Seconds: 3.01\n",
            "Average loss for this update: 1.354\n",
            "No Improvement.\n",
            "Epoch   6/100 Batch  780/781 - Loss:  1.622, Seconds: 2.29\n",
            "Epoch   7/100 Batch   20/781 - Loss:  1.624, Seconds: 2.78\n",
            "Epoch   7/100 Batch   40/781 - Loss:  1.421, Seconds: 2.44\n",
            "Epoch   7/100 Batch   60/781 - Loss:  1.419, Seconds: 2.60\n",
            "Epoch   7/100 Batch   80/781 - Loss:  1.383, Seconds: 2.53\n",
            "Epoch   7/100 Batch  100/781 - Loss:  1.390, Seconds: 2.26\n",
            "Epoch   7/100 Batch  120/781 - Loss:  1.419, Seconds: 2.81\n",
            "Epoch   7/100 Batch  140/781 - Loss:  1.772, Seconds: 2.91\n",
            "Epoch   7/100 Batch  160/781 - Loss:  1.701, Seconds: 2.27\n",
            "Epoch   7/100 Batch  180/781 - Loss:  1.541, Seconds: 2.42\n",
            "Epoch   7/100 Batch  200/781 - Loss:  1.624, Seconds: 2.81\n",
            "Epoch   7/100 Batch  220/781 - Loss:  1.612, Seconds: 2.75\n",
            "Epoch   7/100 Batch  240/781 - Loss:  1.606, Seconds: 2.71\n",
            "Average loss for this update: 1.538\n",
            "No Improvement.\n",
            "Epoch   7/100 Batch  260/781 - Loss:  1.484, Seconds: 3.11\n",
            "Epoch   7/100 Batch  280/781 - Loss:  1.399, Seconds: 2.72\n",
            "Epoch   7/100 Batch  300/781 - Loss:  1.323, Seconds: 2.65\n",
            "Epoch   7/100 Batch  320/781 - Loss:  1.449, Seconds: 2.31\n",
            "Epoch   7/100 Batch  340/781 - Loss:  1.480, Seconds: 2.51\n",
            "Epoch   7/100 Batch  360/781 - Loss:  1.606, Seconds: 3.16\n",
            "Epoch   7/100 Batch  380/781 - Loss:  1.515, Seconds: 2.78\n",
            "Epoch   7/100 Batch  400/781 - Loss:  1.449, Seconds: 2.53\n",
            "Epoch   7/100 Batch  420/781 - Loss:  1.352, Seconds: 2.79\n",
            "Epoch   7/100 Batch  440/781 - Loss:  1.326, Seconds: 2.95\n",
            "Epoch   7/100 Batch  460/781 - Loss:  1.358, Seconds: 2.60\n",
            "Epoch   7/100 Batch  480/781 - Loss:  1.446, Seconds: 2.82\n",
            "Epoch   7/100 Batch  500/781 - Loss:  1.488, Seconds: 2.58\n",
            "Average loss for this update: 1.428\n",
            "No Improvement.\n",
            "Stopping Training.\n"
          ],
          "name": "stdout"
        }
      ]
    },
    {
      "cell_type": "code",
      "metadata": {
        "id": "CFsa6ko8EwuH",
        "colab_type": "code",
        "colab": {}
      },
      "source": [
        "def text_to_seq(text):\n",
        "    '''Prepare the text for the model'''\n",
        "    \n",
        "    text = clean_text(text)\n",
        "    return [vocab_to_int.get(word, vocab_to_int['<UNK>']) for word in text.split()]"
      ],
      "execution_count": 0,
      "outputs": []
    },
    {
      "cell_type": "code",
      "metadata": {
        "id": "Wz37BTboFAIV",
        "colab_type": "code",
        "outputId": "49743c80-fc2b-4910-b42f-9086b96f17d1",
        "colab": {
          "base_uri": "https://localhost:8080/",
          "height": 241
        }
      },
      "source": [
        "input_sentences=[\"The coffee tasted great and was at such a good price! I highly recommend this to everyone!\",\n",
        "               \"love individual oatmeal cups found years ago sam quit selling sound big lots quit selling found target expensive buy individually trilled get entire case time go anywhere need water microwave spoon know quaker flavor packets\"]\n",
        "generagte_summary_length =  [3,2]\n",
        "\n",
        "texts = [text_to_seq(input_sentence) for input_sentence in input_sentences]\n",
        "checkpoint = \"../output/best_model.ckpt\"\n",
        "if type(generagte_summary_length) is list:\n",
        "    if len(input_sentences)!=len(generagte_summary_length):\n",
        "        raise Exception(\"[Error] makeSummaries parameter generagte_summary_length must be same length as input_sentences or an integer\")\n",
        "    generagte_summary_length_list = generagte_summary_length\n",
        "else:\n",
        "    generagte_summary_length_list = [generagte_summary_length] * len(texts)\n",
        "loaded_graph = tf.Graph()\n",
        "with tf.Session(graph=loaded_graph) as sess:\n",
        "    # Load saved model\n",
        "    loader = tf.train.import_meta_graph(checkpoint + '.meta')\n",
        "    loader.restore(sess, checkpoint)\n",
        "    input_data = loaded_graph.get_tensor_by_name('input:0')\n",
        "    logits = loaded_graph.get_tensor_by_name('predictions:0')\n",
        "    text_length = loaded_graph.get_tensor_by_name('text_length:0')\n",
        "    summary_length = loaded_graph.get_tensor_by_name('summary_length:0')\n",
        "    keep_prob = loaded_graph.get_tensor_by_name('keep_prob:0')\n",
        "    #Multiply by batch_size to match the model's input parameters\n",
        "    for i, text in enumerate(texts):\n",
        "        generagte_summary_length = generagte_summary_length_list[i]\n",
        "        answer_logits = sess.run(logits, {input_data: [text]*batch_size, \n",
        "                                          summary_length: [generagte_summary_length], #summary_length: [np.random.randint(5,8)], \n",
        "                                          text_length: [len(text)]*batch_size,\n",
        "                                          keep_prob: 1.0})[0] \n",
        "        # Remove the padding from the summaries\n",
        "        pad = vocab_to_int[\"<PAD>\"] \n",
        "        print('- Review:\\n\\r {}'.format(input_sentences[i]))\n",
        "        print('- Summary:\\n\\r {}\\n\\r\\n\\r'.format(\" \".join([int_to_vocab[i] for i in answer_logits if i != pad])))\n"
      ],
      "execution_count": 0,
      "outputs": [
        {
          "output_type": "stream",
          "text": [
            "- Review:\n",
            "\r The coffee tasted great and was at such a good price! I highly recommend this to everyone!\n",
            "- Summary:\n",
            "\r great coffee great\n",
            "\r\n",
            "\r\n",
            "- Review:\n",
            "\r love individual oatmeal cups found years ago sam quit selling sound big lots quit selling found target expensive buy individually trilled get entire case time go anywhere need water microwave spoon know quaker flavor packets\n",
            "- Summary:\n",
            "\r the best\n",
            "\r\n",
            "\r\n"
          ],
          "name": "stdout"
        }
      ]
    }
  ]
}